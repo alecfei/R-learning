{
 "cells": [
  {
   "cell_type": "code",
   "execution_count": 1,
   "id": "df7a40ab",
   "metadata": {},
   "outputs": [],
   "source": [
    "#install.packages('RODBC')"
   ]
  },
  {
   "cell_type": "code",
   "execution_count": 2,
   "id": "72215f9f",
   "metadata": {},
   "outputs": [],
   "source": [
    "?state.x77"
   ]
  },
  {
   "cell_type": "code",
   "execution_count": 3,
   "id": "ae72e77a",
   "metadata": {},
   "outputs": [],
   "source": [
    "state <- as.data.frame(state.x77[, c(\"Murder\", \"Population\", \"Illiteracy\", \"Income\", \"Frost\")])"
   ]
  },
  {
   "cell_type": "code",
   "execution_count": 4,
   "id": "1fd0db92",
   "metadata": {},
   "outputs": [
    {
     "data": {
      "text/html": [
       "'data.frame'"
      ],
      "text/latex": [
       "'data.frame'"
      ],
      "text/markdown": [
       "'data.frame'"
      ],
      "text/plain": [
       "[1] \"data.frame\""
      ]
     },
     "metadata": {},
     "output_type": "display_data"
    }
   ],
   "source": [
    "class(state)"
   ]
  },
  {
   "cell_type": "code",
   "execution_count": 5,
   "id": "b9e78023",
   "metadata": {},
   "outputs": [
    {
     "data": {
      "text/html": [
       "<table class=\"dataframe\">\n",
       "<caption>A data.frame: 50 × 5</caption>\n",
       "<thead>\n",
       "\t<tr><th></th><th scope=col>Murder</th><th scope=col>Population</th><th scope=col>Illiteracy</th><th scope=col>Income</th><th scope=col>Frost</th></tr>\n",
       "\t<tr><th></th><th scope=col>&lt;dbl&gt;</th><th scope=col>&lt;dbl&gt;</th><th scope=col>&lt;dbl&gt;</th><th scope=col>&lt;dbl&gt;</th><th scope=col>&lt;dbl&gt;</th></tr>\n",
       "</thead>\n",
       "<tbody>\n",
       "\t<tr><th scope=row>Alabama</th><td>15.1</td><td> 3615</td><td>2.1</td><td>3624</td><td> 20</td></tr>\n",
       "\t<tr><th scope=row>Alaska</th><td>11.3</td><td>  365</td><td>1.5</td><td>6315</td><td>152</td></tr>\n",
       "\t<tr><th scope=row>Arizona</th><td> 7.8</td><td> 2212</td><td>1.8</td><td>4530</td><td> 15</td></tr>\n",
       "\t<tr><th scope=row>Arkansas</th><td>10.1</td><td> 2110</td><td>1.9</td><td>3378</td><td> 65</td></tr>\n",
       "\t<tr><th scope=row>California</th><td>10.3</td><td>21198</td><td>1.1</td><td>5114</td><td> 20</td></tr>\n",
       "\t<tr><th scope=row>Colorado</th><td> 6.8</td><td> 2541</td><td>0.7</td><td>4884</td><td>166</td></tr>\n",
       "\t<tr><th scope=row>Connecticut</th><td> 3.1</td><td> 3100</td><td>1.1</td><td>5348</td><td>139</td></tr>\n",
       "\t<tr><th scope=row>Delaware</th><td> 6.2</td><td>  579</td><td>0.9</td><td>4809</td><td>103</td></tr>\n",
       "\t<tr><th scope=row>Florida</th><td>10.7</td><td> 8277</td><td>1.3</td><td>4815</td><td> 11</td></tr>\n",
       "\t<tr><th scope=row>Georgia</th><td>13.9</td><td> 4931</td><td>2.0</td><td>4091</td><td> 60</td></tr>\n",
       "\t<tr><th scope=row>Hawaii</th><td> 6.2</td><td>  868</td><td>1.9</td><td>4963</td><td>  0</td></tr>\n",
       "\t<tr><th scope=row>Idaho</th><td> 5.3</td><td>  813</td><td>0.6</td><td>4119</td><td>126</td></tr>\n",
       "\t<tr><th scope=row>Illinois</th><td>10.3</td><td>11197</td><td>0.9</td><td>5107</td><td>127</td></tr>\n",
       "\t<tr><th scope=row>Indiana</th><td> 7.1</td><td> 5313</td><td>0.7</td><td>4458</td><td>122</td></tr>\n",
       "\t<tr><th scope=row>Iowa</th><td> 2.3</td><td> 2861</td><td>0.5</td><td>4628</td><td>140</td></tr>\n",
       "\t<tr><th scope=row>Kansas</th><td> 4.5</td><td> 2280</td><td>0.6</td><td>4669</td><td>114</td></tr>\n",
       "\t<tr><th scope=row>Kentucky</th><td>10.6</td><td> 3387</td><td>1.6</td><td>3712</td><td> 95</td></tr>\n",
       "\t<tr><th scope=row>Louisiana</th><td>13.2</td><td> 3806</td><td>2.8</td><td>3545</td><td> 12</td></tr>\n",
       "\t<tr><th scope=row>Maine</th><td> 2.7</td><td> 1058</td><td>0.7</td><td>3694</td><td>161</td></tr>\n",
       "\t<tr><th scope=row>Maryland</th><td> 8.5</td><td> 4122</td><td>0.9</td><td>5299</td><td>101</td></tr>\n",
       "\t<tr><th scope=row>Massachusetts</th><td> 3.3</td><td> 5814</td><td>1.1</td><td>4755</td><td>103</td></tr>\n",
       "\t<tr><th scope=row>Michigan</th><td>11.1</td><td> 9111</td><td>0.9</td><td>4751</td><td>125</td></tr>\n",
       "\t<tr><th scope=row>Minnesota</th><td> 2.3</td><td> 3921</td><td>0.6</td><td>4675</td><td>160</td></tr>\n",
       "\t<tr><th scope=row>Mississippi</th><td>12.5</td><td> 2341</td><td>2.4</td><td>3098</td><td> 50</td></tr>\n",
       "\t<tr><th scope=row>Missouri</th><td> 9.3</td><td> 4767</td><td>0.8</td><td>4254</td><td>108</td></tr>\n",
       "\t<tr><th scope=row>Montana</th><td> 5.0</td><td>  746</td><td>0.6</td><td>4347</td><td>155</td></tr>\n",
       "\t<tr><th scope=row>Nebraska</th><td> 2.9</td><td> 1544</td><td>0.6</td><td>4508</td><td>139</td></tr>\n",
       "\t<tr><th scope=row>Nevada</th><td>11.5</td><td>  590</td><td>0.5</td><td>5149</td><td>188</td></tr>\n",
       "\t<tr><th scope=row>New Hampshire</th><td> 3.3</td><td>  812</td><td>0.7</td><td>4281</td><td>174</td></tr>\n",
       "\t<tr><th scope=row>New Jersey</th><td> 5.2</td><td> 7333</td><td>1.1</td><td>5237</td><td>115</td></tr>\n",
       "\t<tr><th scope=row>New Mexico</th><td> 9.7</td><td> 1144</td><td>2.2</td><td>3601</td><td>120</td></tr>\n",
       "\t<tr><th scope=row>New York</th><td>10.9</td><td>18076</td><td>1.4</td><td>4903</td><td> 82</td></tr>\n",
       "\t<tr><th scope=row>North Carolina</th><td>11.1</td><td> 5441</td><td>1.8</td><td>3875</td><td> 80</td></tr>\n",
       "\t<tr><th scope=row>North Dakota</th><td> 1.4</td><td>  637</td><td>0.8</td><td>5087</td><td>186</td></tr>\n",
       "\t<tr><th scope=row>Ohio</th><td> 7.4</td><td>10735</td><td>0.8</td><td>4561</td><td>124</td></tr>\n",
       "\t<tr><th scope=row>Oklahoma</th><td> 6.4</td><td> 2715</td><td>1.1</td><td>3983</td><td> 82</td></tr>\n",
       "\t<tr><th scope=row>Oregon</th><td> 4.2</td><td> 2284</td><td>0.6</td><td>4660</td><td> 44</td></tr>\n",
       "\t<tr><th scope=row>Pennsylvania</th><td> 6.1</td><td>11860</td><td>1.0</td><td>4449</td><td>126</td></tr>\n",
       "\t<tr><th scope=row>Rhode Island</th><td> 2.4</td><td>  931</td><td>1.3</td><td>4558</td><td>127</td></tr>\n",
       "\t<tr><th scope=row>South Carolina</th><td>11.6</td><td> 2816</td><td>2.3</td><td>3635</td><td> 65</td></tr>\n",
       "\t<tr><th scope=row>South Dakota</th><td> 1.7</td><td>  681</td><td>0.5</td><td>4167</td><td>172</td></tr>\n",
       "\t<tr><th scope=row>Tennessee</th><td>11.0</td><td> 4173</td><td>1.7</td><td>3821</td><td> 70</td></tr>\n",
       "\t<tr><th scope=row>Texas</th><td>12.2</td><td>12237</td><td>2.2</td><td>4188</td><td> 35</td></tr>\n",
       "\t<tr><th scope=row>Utah</th><td> 4.5</td><td> 1203</td><td>0.6</td><td>4022</td><td>137</td></tr>\n",
       "\t<tr><th scope=row>Vermont</th><td> 5.5</td><td>  472</td><td>0.6</td><td>3907</td><td>168</td></tr>\n",
       "\t<tr><th scope=row>Virginia</th><td> 9.5</td><td> 4981</td><td>1.4</td><td>4701</td><td> 85</td></tr>\n",
       "\t<tr><th scope=row>Washington</th><td> 4.3</td><td> 3559</td><td>0.6</td><td>4864</td><td> 32</td></tr>\n",
       "\t<tr><th scope=row>West Virginia</th><td> 6.7</td><td> 1799</td><td>1.4</td><td>3617</td><td>100</td></tr>\n",
       "\t<tr><th scope=row>Wisconsin</th><td> 3.0</td><td> 4589</td><td>0.7</td><td>4468</td><td>149</td></tr>\n",
       "\t<tr><th scope=row>Wyoming</th><td> 6.9</td><td>  376</td><td>0.6</td><td>4566</td><td>173</td></tr>\n",
       "</tbody>\n",
       "</table>\n"
      ],
      "text/latex": [
       "A data.frame: 50 × 5\n",
       "\\begin{tabular}{r|lllll}\n",
       "  & Murder & Population & Illiteracy & Income & Frost\\\\\n",
       "  & <dbl> & <dbl> & <dbl> & <dbl> & <dbl>\\\\\n",
       "\\hline\n",
       "\tAlabama & 15.1 &  3615 & 2.1 & 3624 &  20\\\\\n",
       "\tAlaska & 11.3 &   365 & 1.5 & 6315 & 152\\\\\n",
       "\tArizona &  7.8 &  2212 & 1.8 & 4530 &  15\\\\\n",
       "\tArkansas & 10.1 &  2110 & 1.9 & 3378 &  65\\\\\n",
       "\tCalifornia & 10.3 & 21198 & 1.1 & 5114 &  20\\\\\n",
       "\tColorado &  6.8 &  2541 & 0.7 & 4884 & 166\\\\\n",
       "\tConnecticut &  3.1 &  3100 & 1.1 & 5348 & 139\\\\\n",
       "\tDelaware &  6.2 &   579 & 0.9 & 4809 & 103\\\\\n",
       "\tFlorida & 10.7 &  8277 & 1.3 & 4815 &  11\\\\\n",
       "\tGeorgia & 13.9 &  4931 & 2.0 & 4091 &  60\\\\\n",
       "\tHawaii &  6.2 &   868 & 1.9 & 4963 &   0\\\\\n",
       "\tIdaho &  5.3 &   813 & 0.6 & 4119 & 126\\\\\n",
       "\tIllinois & 10.3 & 11197 & 0.9 & 5107 & 127\\\\\n",
       "\tIndiana &  7.1 &  5313 & 0.7 & 4458 & 122\\\\\n",
       "\tIowa &  2.3 &  2861 & 0.5 & 4628 & 140\\\\\n",
       "\tKansas &  4.5 &  2280 & 0.6 & 4669 & 114\\\\\n",
       "\tKentucky & 10.6 &  3387 & 1.6 & 3712 &  95\\\\\n",
       "\tLouisiana & 13.2 &  3806 & 2.8 & 3545 &  12\\\\\n",
       "\tMaine &  2.7 &  1058 & 0.7 & 3694 & 161\\\\\n",
       "\tMaryland &  8.5 &  4122 & 0.9 & 5299 & 101\\\\\n",
       "\tMassachusetts &  3.3 &  5814 & 1.1 & 4755 & 103\\\\\n",
       "\tMichigan & 11.1 &  9111 & 0.9 & 4751 & 125\\\\\n",
       "\tMinnesota &  2.3 &  3921 & 0.6 & 4675 & 160\\\\\n",
       "\tMississippi & 12.5 &  2341 & 2.4 & 3098 &  50\\\\\n",
       "\tMissouri &  9.3 &  4767 & 0.8 & 4254 & 108\\\\\n",
       "\tMontana &  5.0 &   746 & 0.6 & 4347 & 155\\\\\n",
       "\tNebraska &  2.9 &  1544 & 0.6 & 4508 & 139\\\\\n",
       "\tNevada & 11.5 &   590 & 0.5 & 5149 & 188\\\\\n",
       "\tNew Hampshire &  3.3 &   812 & 0.7 & 4281 & 174\\\\\n",
       "\tNew Jersey &  5.2 &  7333 & 1.1 & 5237 & 115\\\\\n",
       "\tNew Mexico &  9.7 &  1144 & 2.2 & 3601 & 120\\\\\n",
       "\tNew York & 10.9 & 18076 & 1.4 & 4903 &  82\\\\\n",
       "\tNorth Carolina & 11.1 &  5441 & 1.8 & 3875 &  80\\\\\n",
       "\tNorth Dakota &  1.4 &   637 & 0.8 & 5087 & 186\\\\\n",
       "\tOhio &  7.4 & 10735 & 0.8 & 4561 & 124\\\\\n",
       "\tOklahoma &  6.4 &  2715 & 1.1 & 3983 &  82\\\\\n",
       "\tOregon &  4.2 &  2284 & 0.6 & 4660 &  44\\\\\n",
       "\tPennsylvania &  6.1 & 11860 & 1.0 & 4449 & 126\\\\\n",
       "\tRhode Island &  2.4 &   931 & 1.3 & 4558 & 127\\\\\n",
       "\tSouth Carolina & 11.6 &  2816 & 2.3 & 3635 &  65\\\\\n",
       "\tSouth Dakota &  1.7 &   681 & 0.5 & 4167 & 172\\\\\n",
       "\tTennessee & 11.0 &  4173 & 1.7 & 3821 &  70\\\\\n",
       "\tTexas & 12.2 & 12237 & 2.2 & 4188 &  35\\\\\n",
       "\tUtah &  4.5 &  1203 & 0.6 & 4022 & 137\\\\\n",
       "\tVermont &  5.5 &   472 & 0.6 & 3907 & 168\\\\\n",
       "\tVirginia &  9.5 &  4981 & 1.4 & 4701 &  85\\\\\n",
       "\tWashington &  4.3 &  3559 & 0.6 & 4864 &  32\\\\\n",
       "\tWest Virginia &  6.7 &  1799 & 1.4 & 3617 & 100\\\\\n",
       "\tWisconsin &  3.0 &  4589 & 0.7 & 4468 & 149\\\\\n",
       "\tWyoming &  6.9 &   376 & 0.6 & 4566 & 173\\\\\n",
       "\\end{tabular}\n"
      ],
      "text/markdown": [
       "\n",
       "A data.frame: 50 × 5\n",
       "\n",
       "| <!--/--> | Murder &lt;dbl&gt; | Population &lt;dbl&gt; | Illiteracy &lt;dbl&gt; | Income &lt;dbl&gt; | Frost &lt;dbl&gt; |\n",
       "|---|---|---|---|---|---|\n",
       "| Alabama | 15.1 |  3615 | 2.1 | 3624 |  20 |\n",
       "| Alaska | 11.3 |   365 | 1.5 | 6315 | 152 |\n",
       "| Arizona |  7.8 |  2212 | 1.8 | 4530 |  15 |\n",
       "| Arkansas | 10.1 |  2110 | 1.9 | 3378 |  65 |\n",
       "| California | 10.3 | 21198 | 1.1 | 5114 |  20 |\n",
       "| Colorado |  6.8 |  2541 | 0.7 | 4884 | 166 |\n",
       "| Connecticut |  3.1 |  3100 | 1.1 | 5348 | 139 |\n",
       "| Delaware |  6.2 |   579 | 0.9 | 4809 | 103 |\n",
       "| Florida | 10.7 |  8277 | 1.3 | 4815 |  11 |\n",
       "| Georgia | 13.9 |  4931 | 2.0 | 4091 |  60 |\n",
       "| Hawaii |  6.2 |   868 | 1.9 | 4963 |   0 |\n",
       "| Idaho |  5.3 |   813 | 0.6 | 4119 | 126 |\n",
       "| Illinois | 10.3 | 11197 | 0.9 | 5107 | 127 |\n",
       "| Indiana |  7.1 |  5313 | 0.7 | 4458 | 122 |\n",
       "| Iowa |  2.3 |  2861 | 0.5 | 4628 | 140 |\n",
       "| Kansas |  4.5 |  2280 | 0.6 | 4669 | 114 |\n",
       "| Kentucky | 10.6 |  3387 | 1.6 | 3712 |  95 |\n",
       "| Louisiana | 13.2 |  3806 | 2.8 | 3545 |  12 |\n",
       "| Maine |  2.7 |  1058 | 0.7 | 3694 | 161 |\n",
       "| Maryland |  8.5 |  4122 | 0.9 | 5299 | 101 |\n",
       "| Massachusetts |  3.3 |  5814 | 1.1 | 4755 | 103 |\n",
       "| Michigan | 11.1 |  9111 | 0.9 | 4751 | 125 |\n",
       "| Minnesota |  2.3 |  3921 | 0.6 | 4675 | 160 |\n",
       "| Mississippi | 12.5 |  2341 | 2.4 | 3098 |  50 |\n",
       "| Missouri |  9.3 |  4767 | 0.8 | 4254 | 108 |\n",
       "| Montana |  5.0 |   746 | 0.6 | 4347 | 155 |\n",
       "| Nebraska |  2.9 |  1544 | 0.6 | 4508 | 139 |\n",
       "| Nevada | 11.5 |   590 | 0.5 | 5149 | 188 |\n",
       "| New Hampshire |  3.3 |   812 | 0.7 | 4281 | 174 |\n",
       "| New Jersey |  5.2 |  7333 | 1.1 | 5237 | 115 |\n",
       "| New Mexico |  9.7 |  1144 | 2.2 | 3601 | 120 |\n",
       "| New York | 10.9 | 18076 | 1.4 | 4903 |  82 |\n",
       "| North Carolina | 11.1 |  5441 | 1.8 | 3875 |  80 |\n",
       "| North Dakota |  1.4 |   637 | 0.8 | 5087 | 186 |\n",
       "| Ohio |  7.4 | 10735 | 0.8 | 4561 | 124 |\n",
       "| Oklahoma |  6.4 |  2715 | 1.1 | 3983 |  82 |\n",
       "| Oregon |  4.2 |  2284 | 0.6 | 4660 |  44 |\n",
       "| Pennsylvania |  6.1 | 11860 | 1.0 | 4449 | 126 |\n",
       "| Rhode Island |  2.4 |   931 | 1.3 | 4558 | 127 |\n",
       "| South Carolina | 11.6 |  2816 | 2.3 | 3635 |  65 |\n",
       "| South Dakota |  1.7 |   681 | 0.5 | 4167 | 172 |\n",
       "| Tennessee | 11.0 |  4173 | 1.7 | 3821 |  70 |\n",
       "| Texas | 12.2 | 12237 | 2.2 | 4188 |  35 |\n",
       "| Utah |  4.5 |  1203 | 0.6 | 4022 | 137 |\n",
       "| Vermont |  5.5 |   472 | 0.6 | 3907 | 168 |\n",
       "| Virginia |  9.5 |  4981 | 1.4 | 4701 |  85 |\n",
       "| Washington |  4.3 |  3559 | 0.6 | 4864 |  32 |\n",
       "| West Virginia |  6.7 |  1799 | 1.4 | 3617 | 100 |\n",
       "| Wisconsin |  3.0 |  4589 | 0.7 | 4468 | 149 |\n",
       "| Wyoming |  6.9 |   376 | 0.6 | 4566 | 173 |\n",
       "\n"
      ],
      "text/plain": [
       "               Murder Population Illiteracy Income Frost\n",
       "Alabama        15.1    3615      2.1        3624    20  \n",
       "Alaska         11.3     365      1.5        6315   152  \n",
       "Arizona         7.8    2212      1.8        4530    15  \n",
       "Arkansas       10.1    2110      1.9        3378    65  \n",
       "California     10.3   21198      1.1        5114    20  \n",
       "Colorado        6.8    2541      0.7        4884   166  \n",
       "Connecticut     3.1    3100      1.1        5348   139  \n",
       "Delaware        6.2     579      0.9        4809   103  \n",
       "Florida        10.7    8277      1.3        4815    11  \n",
       "Georgia        13.9    4931      2.0        4091    60  \n",
       "Hawaii          6.2     868      1.9        4963     0  \n",
       "Idaho           5.3     813      0.6        4119   126  \n",
       "Illinois       10.3   11197      0.9        5107   127  \n",
       "Indiana         7.1    5313      0.7        4458   122  \n",
       "Iowa            2.3    2861      0.5        4628   140  \n",
       "Kansas          4.5    2280      0.6        4669   114  \n",
       "Kentucky       10.6    3387      1.6        3712    95  \n",
       "Louisiana      13.2    3806      2.8        3545    12  \n",
       "Maine           2.7    1058      0.7        3694   161  \n",
       "Maryland        8.5    4122      0.9        5299   101  \n",
       "Massachusetts   3.3    5814      1.1        4755   103  \n",
       "Michigan       11.1    9111      0.9        4751   125  \n",
       "Minnesota       2.3    3921      0.6        4675   160  \n",
       "Mississippi    12.5    2341      2.4        3098    50  \n",
       "Missouri        9.3    4767      0.8        4254   108  \n",
       "Montana         5.0     746      0.6        4347   155  \n",
       "Nebraska        2.9    1544      0.6        4508   139  \n",
       "Nevada         11.5     590      0.5        5149   188  \n",
       "New Hampshire   3.3     812      0.7        4281   174  \n",
       "New Jersey      5.2    7333      1.1        5237   115  \n",
       "New Mexico      9.7    1144      2.2        3601   120  \n",
       "New York       10.9   18076      1.4        4903    82  \n",
       "North Carolina 11.1    5441      1.8        3875    80  \n",
       "North Dakota    1.4     637      0.8        5087   186  \n",
       "Ohio            7.4   10735      0.8        4561   124  \n",
       "Oklahoma        6.4    2715      1.1        3983    82  \n",
       "Oregon          4.2    2284      0.6        4660    44  \n",
       "Pennsylvania    6.1   11860      1.0        4449   126  \n",
       "Rhode Island    2.4     931      1.3        4558   127  \n",
       "South Carolina 11.6    2816      2.3        3635    65  \n",
       "South Dakota    1.7     681      0.5        4167   172  \n",
       "Tennessee      11.0    4173      1.7        3821    70  \n",
       "Texas          12.2   12237      2.2        4188    35  \n",
       "Utah            4.5    1203      0.6        4022   137  \n",
       "Vermont         5.5     472      0.6        3907   168  \n",
       "Virginia        9.5    4981      1.4        4701    85  \n",
       "Washington      4.3    3559      0.6        4864    32  \n",
       "West Virginia   6.7    1799      1.4        3617   100  \n",
       "Wisconsin       3.0    4589      0.7        4468   149  \n",
       "Wyoming         6.9     376      0.6        4566   173  "
      ]
     },
     "metadata": {},
     "output_type": "display_data"
    }
   ],
   "source": [
    "state"
   ]
  },
  {
   "cell_type": "code",
   "execution_count": 6,
   "id": "51643d5d",
   "metadata": {},
   "outputs": [
    {
     "data": {
      "text/html": [
       "<table class=\"dataframe\">\n",
       "<caption>A data.frame: 6 × 5</caption>\n",
       "<thead>\n",
       "\t<tr><th></th><th scope=col>Murder</th><th scope=col>Population</th><th scope=col>Illiteracy</th><th scope=col>Income</th><th scope=col>Frost</th></tr>\n",
       "\t<tr><th></th><th scope=col>&lt;dbl&gt;</th><th scope=col>&lt;dbl&gt;</th><th scope=col>&lt;dbl&gt;</th><th scope=col>&lt;dbl&gt;</th><th scope=col>&lt;dbl&gt;</th></tr>\n",
       "</thead>\n",
       "<tbody>\n",
       "\t<tr><th scope=row>Alabama</th><td>15.1</td><td> 3615</td><td>2.1</td><td>3624</td><td> 20</td></tr>\n",
       "\t<tr><th scope=row>Alaska</th><td>11.3</td><td>  365</td><td>1.5</td><td>6315</td><td>152</td></tr>\n",
       "\t<tr><th scope=row>Arizona</th><td> 7.8</td><td> 2212</td><td>1.8</td><td>4530</td><td> 15</td></tr>\n",
       "\t<tr><th scope=row>Arkansas</th><td>10.1</td><td> 2110</td><td>1.9</td><td>3378</td><td> 65</td></tr>\n",
       "\t<tr><th scope=row>California</th><td>10.3</td><td>21198</td><td>1.1</td><td>5114</td><td> 20</td></tr>\n",
       "\t<tr><th scope=row>Colorado</th><td> 6.8</td><td> 2541</td><td>0.7</td><td>4884</td><td>166</td></tr>\n",
       "</tbody>\n",
       "</table>\n"
      ],
      "text/latex": [
       "A data.frame: 6 × 5\n",
       "\\begin{tabular}{r|lllll}\n",
       "  & Murder & Population & Illiteracy & Income & Frost\\\\\n",
       "  & <dbl> & <dbl> & <dbl> & <dbl> & <dbl>\\\\\n",
       "\\hline\n",
       "\tAlabama & 15.1 &  3615 & 2.1 & 3624 &  20\\\\\n",
       "\tAlaska & 11.3 &   365 & 1.5 & 6315 & 152\\\\\n",
       "\tArizona &  7.8 &  2212 & 1.8 & 4530 &  15\\\\\n",
       "\tArkansas & 10.1 &  2110 & 1.9 & 3378 &  65\\\\\n",
       "\tCalifornia & 10.3 & 21198 & 1.1 & 5114 &  20\\\\\n",
       "\tColorado &  6.8 &  2541 & 0.7 & 4884 & 166\\\\\n",
       "\\end{tabular}\n"
      ],
      "text/markdown": [
       "\n",
       "A data.frame: 6 × 5\n",
       "\n",
       "| <!--/--> | Murder &lt;dbl&gt; | Population &lt;dbl&gt; | Illiteracy &lt;dbl&gt; | Income &lt;dbl&gt; | Frost &lt;dbl&gt; |\n",
       "|---|---|---|---|---|---|\n",
       "| Alabama | 15.1 |  3615 | 2.1 | 3624 |  20 |\n",
       "| Alaska | 11.3 |   365 | 1.5 | 6315 | 152 |\n",
       "| Arizona |  7.8 |  2212 | 1.8 | 4530 |  15 |\n",
       "| Arkansas | 10.1 |  2110 | 1.9 | 3378 |  65 |\n",
       "| California | 10.3 | 21198 | 1.1 | 5114 |  20 |\n",
       "| Colorado |  6.8 |  2541 | 0.7 | 4884 | 166 |\n",
       "\n"
      ],
      "text/plain": [
       "           Murder Population Illiteracy Income Frost\n",
       "Alabama    15.1    3615      2.1        3624    20  \n",
       "Alaska     11.3     365      1.5        6315   152  \n",
       "Arizona     7.8    2212      1.8        4530    15  \n",
       "Arkansas   10.1    2110      1.9        3378    65  \n",
       "California 10.3   21198      1.1        5114    20  \n",
       "Colorado    6.8    2541      0.7        4884   166  "
      ]
     },
     "metadata": {},
     "output_type": "display_data"
    }
   ],
   "source": [
    "head(state)"
   ]
  },
  {
   "cell_type": "code",
   "execution_count": 7,
   "id": "33e77349",
   "metadata": {},
   "outputs": [
    {
     "data": {
      "text/html": [
       "<table class=\"dataframe\">\n",
       "<caption>A data.frame: 3 × 5</caption>\n",
       "<thead>\n",
       "\t<tr><th></th><th scope=col>Murder</th><th scope=col>Population</th><th scope=col>Illiteracy</th><th scope=col>Income</th><th scope=col>Frost</th></tr>\n",
       "\t<tr><th></th><th scope=col>&lt;dbl&gt;</th><th scope=col>&lt;dbl&gt;</th><th scope=col>&lt;dbl&gt;</th><th scope=col>&lt;dbl&gt;</th><th scope=col>&lt;dbl&gt;</th></tr>\n",
       "</thead>\n",
       "<tbody>\n",
       "\t<tr><th scope=row>West Virginia</th><td>6.7</td><td>1799</td><td>1.4</td><td>3617</td><td>100</td></tr>\n",
       "\t<tr><th scope=row>Wisconsin</th><td>3.0</td><td>4589</td><td>0.7</td><td>4468</td><td>149</td></tr>\n",
       "\t<tr><th scope=row>Wyoming</th><td>6.9</td><td> 376</td><td>0.6</td><td>4566</td><td>173</td></tr>\n",
       "</tbody>\n",
       "</table>\n"
      ],
      "text/latex": [
       "A data.frame: 3 × 5\n",
       "\\begin{tabular}{r|lllll}\n",
       "  & Murder & Population & Illiteracy & Income & Frost\\\\\n",
       "  & <dbl> & <dbl> & <dbl> & <dbl> & <dbl>\\\\\n",
       "\\hline\n",
       "\tWest Virginia & 6.7 & 1799 & 1.4 & 3617 & 100\\\\\n",
       "\tWisconsin & 3.0 & 4589 & 0.7 & 4468 & 149\\\\\n",
       "\tWyoming & 6.9 &  376 & 0.6 & 4566 & 173\\\\\n",
       "\\end{tabular}\n"
      ],
      "text/markdown": [
       "\n",
       "A data.frame: 3 × 5\n",
       "\n",
       "| <!--/--> | Murder &lt;dbl&gt; | Population &lt;dbl&gt; | Illiteracy &lt;dbl&gt; | Income &lt;dbl&gt; | Frost &lt;dbl&gt; |\n",
       "|---|---|---|---|---|---|\n",
       "| West Virginia | 6.7 | 1799 | 1.4 | 3617 | 100 |\n",
       "| Wisconsin | 3.0 | 4589 | 0.7 | 4468 | 149 |\n",
       "| Wyoming | 6.9 |  376 | 0.6 | 4566 | 173 |\n",
       "\n"
      ],
      "text/plain": [
       "              Murder Population Illiteracy Income Frost\n",
       "West Virginia 6.7    1799       1.4        3617   100  \n",
       "Wisconsin     3.0    4589       0.7        4468   149  \n",
       "Wyoming       6.9     376       0.6        4566   173  "
      ]
     },
     "metadata": {},
     "output_type": "display_data"
    }
   ],
   "source": [
    "tail(state, 3)"
   ]
  },
  {
   "cell_type": "code",
   "execution_count": 8,
   "id": "6ef9dfb0",
   "metadata": {},
   "outputs": [],
   "source": [
    "fit <- lm (Murder ~ Population+Illiteracy+Income+Frost, data = state)"
   ]
  },
  {
   "cell_type": "code",
   "execution_count": 9,
   "id": "23ff4cd7",
   "metadata": {},
   "outputs": [
    {
     "data": {
      "text/plain": [
       "\n",
       "Call:\n",
       "lm(formula = Murder ~ Population + Illiteracy + Income + Frost, \n",
       "    data = state)\n",
       "\n",
       "Residuals:\n",
       "    Min      1Q  Median      3Q     Max \n",
       "-4.7960 -1.6495 -0.0811  1.4815  7.6210 \n",
       "\n",
       "Coefficients:\n",
       "             Estimate Std. Error t value Pr(>|t|)    \n",
       "(Intercept) 1.235e+00  3.866e+00   0.319   0.7510    \n",
       "Population  2.237e-04  9.052e-05   2.471   0.0173 *  \n",
       "Illiteracy  4.143e+00  8.744e-01   4.738 2.19e-05 ***\n",
       "Income      6.442e-05  6.837e-04   0.094   0.9253    \n",
       "Frost       5.813e-04  1.005e-02   0.058   0.9541    \n",
       "---\n",
       "Signif. codes:  0 ‘***’ 0.001 ‘**’ 0.01 ‘*’ 0.05 ‘.’ 0.1 ‘ ’ 1\n",
       "\n",
       "Residual standard error: 2.535 on 45 degrees of freedom\n",
       "Multiple R-squared:  0.567,\tAdjusted R-squared:  0.5285 \n",
       "F-statistic: 14.73 on 4 and 45 DF,  p-value: 9.133e-08\n"
      ]
     },
     "metadata": {},
     "output_type": "display_data"
    }
   ],
   "source": [
    "summary(fit)"
   ]
  },
  {
   "cell_type": "code",
   "execution_count": 10,
   "id": "74104414",
   "metadata": {},
   "outputs": [
    {
     "data": {
      "text/plain": [
       "\n",
       "Call:\n",
       "lm(formula = Murder ~ Population + Illiteracy + Income + Frost, \n",
       "    data = state)\n",
       "\n",
       "Coefficients:\n",
       "(Intercept)   Population   Illiteracy       Income        Frost  \n",
       "  1.235e+00    2.237e-04    4.143e+00    6.442e-05    5.813e-04  \n"
      ]
     },
     "metadata": {},
     "output_type": "display_data"
    }
   ],
   "source": [
    "fit"
   ]
  },
  {
   "cell_type": "code",
   "execution_count": 11,
   "id": "7cf53094",
   "metadata": {},
   "outputs": [
    {
     "data": {
      "text/html": [
       "'lm'"
      ],
      "text/latex": [
       "'lm'"
      ],
      "text/markdown": [
       "'lm'"
      ],
      "text/plain": [
       "[1] \"lm\""
      ]
     },
     "metadata": {},
     "output_type": "display_data"
    }
   ],
   "source": [
    "class(fit)"
   ]
  },
  {
   "cell_type": "code",
   "execution_count": 12,
   "id": "23802169",
   "metadata": {},
   "outputs": [
    {
     "data": {
      "text/html": [
       "<style>\n",
       ".list-inline {list-style: none; margin:0; padding: 0}\n",
       ".list-inline>li {display: inline-block}\n",
       ".list-inline>li:not(:last-child)::after {content: \"\\00b7\"; padding: 0 .5ex}\n",
       "</style>\n",
       "<ol class=list-inline><li>'fit'</li><li>'state'</li></ol>\n"
      ],
      "text/latex": [
       "\\begin{enumerate*}\n",
       "\\item 'fit'\n",
       "\\item 'state'\n",
       "\\end{enumerate*}\n"
      ],
      "text/markdown": [
       "1. 'fit'\n",
       "2. 'state'\n",
       "\n",
       "\n"
      ],
      "text/plain": [
       "[1] \"fit\"   \"state\""
      ]
     },
     "metadata": {},
     "output_type": "display_data"
    }
   ],
   "source": [
    "ls()"
   ]
  },
  {
   "cell_type": "code",
   "execution_count": 13,
   "id": "cdac9581",
   "metadata": {},
   "outputs": [
    {
     "data": {
      "text/html": [
       "<time datetime=\"2024-02-14\">2024-02-14</time>"
      ],
      "text/latex": [
       "2024-02-14"
      ],
      "text/markdown": [
       "2024-02-14"
      ],
      "text/plain": [
       "[1] \"2024-02-14\""
      ]
     },
     "metadata": {},
     "output_type": "display_data"
    }
   ],
   "source": [
    "Sys.Date()"
   ]
  },
  {
   "cell_type": "code",
   "execution_count": 14,
   "id": "e2402b85",
   "metadata": {},
   "outputs": [],
   "source": [
    "a <- 1:100"
   ]
  },
  {
   "cell_type": "code",
   "execution_count": 15,
   "id": "7942ea63",
   "metadata": {},
   "outputs": [
    {
     "data": {
      "text/html": [
       "50.5"
      ],
      "text/latex": [
       "50.5"
      ],
      "text/markdown": [
       "50.5"
      ],
      "text/plain": [
       "[1] 50.5"
      ]
     },
     "metadata": {},
     "output_type": "display_data"
    }
   ],
   "source": [
    "mean(a)"
   ]
  },
  {
   "cell_type": "code",
   "execution_count": 16,
   "id": "5f4f9f94",
   "metadata": {},
   "outputs": [
    {
     "data": {
      "text/html": [
       "5050"
      ],
      "text/latex": [
       "5050"
      ],
      "text/markdown": [
       "5050"
      ],
      "text/plain": [
       "[1] 5050"
      ]
     },
     "metadata": {},
     "output_type": "display_data"
    }
   ],
   "source": [
    "sum(a)"
   ]
  },
  {
   "cell_type": "code",
   "execution_count": 17,
   "id": "665aa7dd",
   "metadata": {},
   "outputs": [
    {
     "data": {
      "image/png": "[encoded data removed]",
      "text/plain": [
       "plot without title"
      ]
     },
     "metadata": {
      "image/png": {
       "height": 420,
       "width": 420
      }
     },
     "output_type": "display_data"
    }
   ],
   "source": [
    "plot(a)"
   ]
  },
  {
   "cell_type": "code",
   "execution_count": 18,
   "id": "02e0dc00",
   "metadata": {},
   "outputs": [],
   "source": [
    "?heatmap"
   ]
  },
  {
   "cell_type": "code",
   "execution_count": 19,
   "id": "e18dcf75",
   "metadata": {},
   "outputs": [],
   "source": [
    "help(sort)"
   ]
  },
  {
   "cell_type": "code",
   "execution_count": 20,
   "id": "13fc781e",
   "metadata": {},
   "outputs": [
    {
     "data": {
      "text/html": [
       "<dl>\n",
       "\t<dt>$xlog</dt>\n",
       "\t\t<dd>FALSE</dd>\n",
       "\t<dt>$ylog</dt>\n",
       "\t\t<dd>FALSE</dd>\n",
       "\t<dt>$adj</dt>\n",
       "\t\t<dd>0.5</dd>\n",
       "\t<dt>$ann</dt>\n",
       "\t\t<dd>TRUE</dd>\n",
       "\t<dt>$ask</dt>\n",
       "\t\t<dd>FALSE</dd>\n",
       "\t<dt>$bg</dt>\n",
       "\t\t<dd>'white'</dd>\n",
       "\t<dt>$bty</dt>\n",
       "\t\t<dd>'o'</dd>\n",
       "\t<dt>$cex</dt>\n",
       "\t\t<dd>1</dd>\n",
       "\t<dt>$cex.axis</dt>\n",
       "\t\t<dd>1</dd>\n",
       "\t<dt>$cex.lab</dt>\n",
       "\t\t<dd>1</dd>\n",
       "\t<dt>$cex.main</dt>\n",
       "\t\t<dd>1.2</dd>\n",
       "\t<dt>$cex.sub</dt>\n",
       "\t\t<dd>1</dd>\n",
       "\t<dt>$cin</dt>\n",
       "\t\t<dd><style>\n",
       ".list-inline {list-style: none; margin:0; padding: 0}\n",
       ".list-inline>li {display: inline-block}\n",
       ".list-inline>li:not(:last-child)::after {content: \"\\00b7\"; padding: 0 .5ex}\n",
       "</style>\n",
       "<ol class=list-inline><li>0.15</li><li>0.2</li></ol>\n",
       "</dd>\n",
       "\t<dt>$col</dt>\n",
       "\t\t<dd>'black'</dd>\n",
       "\t<dt>$col.axis</dt>\n",
       "\t\t<dd>'black'</dd>\n",
       "\t<dt>$col.lab</dt>\n",
       "\t\t<dd>'black'</dd>\n",
       "\t<dt>$col.main</dt>\n",
       "\t\t<dd>'black'</dd>\n",
       "\t<dt>$col.sub</dt>\n",
       "\t\t<dd>'black'</dd>\n",
       "\t<dt>$cra</dt>\n",
       "\t\t<dd><style>\n",
       ".list-inline {list-style: none; margin:0; padding: 0}\n",
       ".list-inline>li {display: inline-block}\n",
       ".list-inline>li:not(:last-child)::after {content: \"\\00b7\"; padding: 0 .5ex}\n",
       "</style>\n",
       "<ol class=list-inline><li>10.8</li><li>14.4</li></ol>\n",
       "</dd>\n",
       "\t<dt>$crt</dt>\n",
       "\t\t<dd>0</dd>\n",
       "\t<dt>$csi</dt>\n",
       "\t\t<dd>0.2</dd>\n",
       "\t<dt>$cxy</dt>\n",
       "\t\t<dd><style>\n",
       ".list-inline {list-style: none; margin:0; padding: 0}\n",
       ".list-inline>li {display: inline-block}\n",
       ".list-inline>li:not(:last-child)::after {content: \"\\00b7\"; padding: 0 .5ex}\n",
       "</style>\n",
       "<ol class=list-inline><li>0.0276412776412776</li><li>0.0414364640883978</li></ol>\n",
       "</dd>\n",
       "\t<dt>$din</dt>\n",
       "\t\t<dd><style>\n",
       ".list-inline {list-style: none; margin:0; padding: 0}\n",
       ".list-inline>li {display: inline-block}\n",
       ".list-inline>li:not(:last-child)::after {content: \"\\00b7\"; padding: 0 .5ex}\n",
       "</style>\n",
       "<ol class=list-inline><li>6.66666666666667</li><li>6.66666666666667</li></ol>\n",
       "</dd>\n",
       "\t<dt>$err</dt>\n",
       "\t\t<dd>0</dd>\n",
       "\t<dt>$family</dt>\n",
       "\t\t<dd>''</dd>\n",
       "\t<dt>$fg</dt>\n",
       "\t\t<dd>'black'</dd>\n",
       "\t<dt>$fig</dt>\n",
       "\t\t<dd><style>\n",
       ".list-inline {list-style: none; margin:0; padding: 0}\n",
       ".list-inline>li {display: inline-block}\n",
       ".list-inline>li:not(:last-child)::after {content: \"\\00b7\"; padding: 0 .5ex}\n",
       "</style>\n",
       "<ol class=list-inline><li>0</li><li>1</li><li>0</li><li>1</li></ol>\n",
       "</dd>\n",
       "\t<dt>$fin</dt>\n",
       "\t\t<dd><style>\n",
       ".list-inline {list-style: none; margin:0; padding: 0}\n",
       ".list-inline>li {display: inline-block}\n",
       ".list-inline>li:not(:last-child)::after {content: \"\\00b7\"; padding: 0 .5ex}\n",
       "</style>\n",
       "<ol class=list-inline><li>6.66666666666667</li><li>6.66666666666667</li></ol>\n",
       "</dd>\n",
       "\t<dt>$font</dt>\n",
       "\t\t<dd>1</dd>\n",
       "\t<dt>$font.axis</dt>\n",
       "\t\t<dd>1</dd>\n",
       "\t<dt>$font.lab</dt>\n",
       "\t\t<dd>1</dd>\n",
       "\t<dt>$font.main</dt>\n",
       "\t\t<dd>2</dd>\n",
       "\t<dt>$font.sub</dt>\n",
       "\t\t<dd>1</dd>\n",
       "\t<dt>$lab</dt>\n",
       "\t\t<dd><style>\n",
       ".list-inline {list-style: none; margin:0; padding: 0}\n",
       ".list-inline>li {display: inline-block}\n",
       ".list-inline>li:not(:last-child)::after {content: \"\\00b7\"; padding: 0 .5ex}\n",
       "</style>\n",
       "<ol class=list-inline><li>5</li><li>5</li><li>7</li></ol>\n",
       "</dd>\n",
       "\t<dt>$las</dt>\n",
       "\t\t<dd>0</dd>\n",
       "\t<dt>$lend</dt>\n",
       "\t\t<dd>'round'</dd>\n",
       "\t<dt>$lheight</dt>\n",
       "\t\t<dd>1</dd>\n",
       "\t<dt>$ljoin</dt>\n",
       "\t\t<dd>'round'</dd>\n",
       "\t<dt>$lmitre</dt>\n",
       "\t\t<dd>10</dd>\n",
       "\t<dt>$lty</dt>\n",
       "\t\t<dd>'solid'</dd>\n",
       "\t<dt>$lwd</dt>\n",
       "\t\t<dd>1</dd>\n",
       "\t<dt>$mai</dt>\n",
       "\t\t<dd><style>\n",
       ".list-inline {list-style: none; margin:0; padding: 0}\n",
       ".list-inline>li {display: inline-block}\n",
       ".list-inline>li:not(:last-child)::after {content: \"\\00b7\"; padding: 0 .5ex}\n",
       "</style>\n",
       "<ol class=list-inline><li>1.02</li><li>0.82</li><li>0.82</li><li>0.42</li></ol>\n",
       "</dd>\n",
       "\t<dt>$mar</dt>\n",
       "\t\t<dd><style>\n",
       ".list-inline {list-style: none; margin:0; padding: 0}\n",
       ".list-inline>li {display: inline-block}\n",
       ".list-inline>li:not(:last-child)::after {content: \"\\00b7\"; padding: 0 .5ex}\n",
       "</style>\n",
       "<ol class=list-inline><li>5.1</li><li>4.1</li><li>4.1</li><li>2.1</li></ol>\n",
       "</dd>\n",
       "\t<dt>$mex</dt>\n",
       "\t\t<dd>1</dd>\n",
       "\t<dt>$mfcol</dt>\n",
       "\t\t<dd><style>\n",
       ".list-inline {list-style: none; margin:0; padding: 0}\n",
       ".list-inline>li {display: inline-block}\n",
       ".list-inline>li:not(:last-child)::after {content: \"\\00b7\"; padding: 0 .5ex}\n",
       "</style>\n",
       "<ol class=list-inline><li>1</li><li>1</li></ol>\n",
       "</dd>\n",
       "\t<dt>$mfg</dt>\n",
       "\t\t<dd><style>\n",
       ".list-inline {list-style: none; margin:0; padding: 0}\n",
       ".list-inline>li {display: inline-block}\n",
       ".list-inline>li:not(:last-child)::after {content: \"\\00b7\"; padding: 0 .5ex}\n",
       "</style>\n",
       "<ol class=list-inline><li>1</li><li>1</li><li>1</li><li>1</li></ol>\n",
       "</dd>\n",
       "\t<dt>$mfrow</dt>\n",
       "\t\t<dd><style>\n",
       ".list-inline {list-style: none; margin:0; padding: 0}\n",
       ".list-inline>li {display: inline-block}\n",
       ".list-inline>li:not(:last-child)::after {content: \"\\00b7\"; padding: 0 .5ex}\n",
       "</style>\n",
       "<ol class=list-inline><li>1</li><li>1</li></ol>\n",
       "</dd>\n",
       "\t<dt>$mgp</dt>\n",
       "\t\t<dd><style>\n",
       ".list-inline {list-style: none; margin:0; padding: 0}\n",
       ".list-inline>li {display: inline-block}\n",
       ".list-inline>li:not(:last-child)::after {content: \"\\00b7\"; padding: 0 .5ex}\n",
       "</style>\n",
       "<ol class=list-inline><li>3</li><li>1</li><li>0</li></ol>\n",
       "</dd>\n",
       "\t<dt>$mkh</dt>\n",
       "\t\t<dd>0.001</dd>\n",
       "\t<dt>$new</dt>\n",
       "\t\t<dd>FALSE</dd>\n",
       "\t<dt>$oma</dt>\n",
       "\t\t<dd><style>\n",
       ".list-inline {list-style: none; margin:0; padding: 0}\n",
       ".list-inline>li {display: inline-block}\n",
       ".list-inline>li:not(:last-child)::after {content: \"\\00b7\"; padding: 0 .5ex}\n",
       "</style>\n",
       "<ol class=list-inline><li>0</li><li>0</li><li>0</li><li>0</li></ol>\n",
       "</dd>\n",
       "\t<dt>$omd</dt>\n",
       "\t\t<dd><style>\n",
       ".list-inline {list-style: none; margin:0; padding: 0}\n",
       ".list-inline>li {display: inline-block}\n",
       ".list-inline>li:not(:last-child)::after {content: \"\\00b7\"; padding: 0 .5ex}\n",
       "</style>\n",
       "<ol class=list-inline><li>0</li><li>1</li><li>0</li><li>1</li></ol>\n",
       "</dd>\n",
       "\t<dt>$omi</dt>\n",
       "\t\t<dd><style>\n",
       ".list-inline {list-style: none; margin:0; padding: 0}\n",
       ".list-inline>li {display: inline-block}\n",
       ".list-inline>li:not(:last-child)::after {content: \"\\00b7\"; padding: 0 .5ex}\n",
       "</style>\n",
       "<ol class=list-inline><li>0</li><li>0</li><li>0</li><li>0</li></ol>\n",
       "</dd>\n",
       "\t<dt>$page</dt>\n",
       "\t\t<dd>TRUE</dd>\n",
       "\t<dt>$pch</dt>\n",
       "\t\t<dd>1</dd>\n",
       "\t<dt>$pin</dt>\n",
       "\t\t<dd><style>\n",
       ".list-inline {list-style: none; margin:0; padding: 0}\n",
       ".list-inline>li {display: inline-block}\n",
       ".list-inline>li:not(:last-child)::after {content: \"\\00b7\"; padding: 0 .5ex}\n",
       "</style>\n",
       "<ol class=list-inline><li>5.42666666666667</li><li>4.82666666666667</li></ol>\n",
       "</dd>\n",
       "\t<dt>$plt</dt>\n",
       "\t\t<dd><style>\n",
       ".list-inline {list-style: none; margin:0; padding: 0}\n",
       ".list-inline>li {display: inline-block}\n",
       ".list-inline>li:not(:last-child)::after {content: \"\\00b7\"; padding: 0 .5ex}\n",
       "</style>\n",
       "<ol class=list-inline><li>0.123</li><li>0.937</li><li>0.153</li><li>0.877</li></ol>\n",
       "</dd>\n",
       "\t<dt>$ps</dt>\n",
       "\t\t<dd>12</dd>\n",
       "\t<dt>$pty</dt>\n",
       "\t\t<dd>'m'</dd>\n",
       "\t<dt>$smo</dt>\n",
       "\t\t<dd>1</dd>\n",
       "\t<dt>$srt</dt>\n",
       "\t\t<dd>0</dd>\n",
       "\t<dt>$tck</dt>\n",
       "\t\t<dd>&lt;NA&gt;</dd>\n",
       "\t<dt>$tcl</dt>\n",
       "\t\t<dd>-0.5</dd>\n",
       "\t<dt>$usr</dt>\n",
       "\t\t<dd><style>\n",
       ".list-inline {list-style: none; margin:0; padding: 0}\n",
       ".list-inline>li {display: inline-block}\n",
       ".list-inline>li:not(:last-child)::after {content: \"\\00b7\"; padding: 0 .5ex}\n",
       "</style>\n",
       "<ol class=list-inline><li>0</li><li>1</li><li>0</li><li>1</li></ol>\n",
       "</dd>\n",
       "\t<dt>$xaxp</dt>\n",
       "\t\t<dd><style>\n",
       ".list-inline {list-style: none; margin:0; padding: 0}\n",
       ".list-inline>li {display: inline-block}\n",
       ".list-inline>li:not(:last-child)::after {content: \"\\00b7\"; padding: 0 .5ex}\n",
       "</style>\n",
       "<ol class=list-inline><li>0</li><li>1</li><li>5</li></ol>\n",
       "</dd>\n",
       "\t<dt>$xaxs</dt>\n",
       "\t\t<dd>'r'</dd>\n",
       "\t<dt>$xaxt</dt>\n",
       "\t\t<dd>'s'</dd>\n",
       "\t<dt>$xpd</dt>\n",
       "\t\t<dd>FALSE</dd>\n",
       "\t<dt>$yaxp</dt>\n",
       "\t\t<dd><style>\n",
       ".list-inline {list-style: none; margin:0; padding: 0}\n",
       ".list-inline>li {display: inline-block}\n",
       ".list-inline>li:not(:last-child)::after {content: \"\\00b7\"; padding: 0 .5ex}\n",
       "</style>\n",
       "<ol class=list-inline><li>0</li><li>1</li><li>5</li></ol>\n",
       "</dd>\n",
       "\t<dt>$yaxs</dt>\n",
       "\t\t<dd>'r'</dd>\n",
       "\t<dt>$yaxt</dt>\n",
       "\t\t<dd>'s'</dd>\n",
       "\t<dt>$ylbias</dt>\n",
       "\t\t<dd>0.2</dd>\n",
       "</dl>\n"
      ],
      "text/latex": [
       "\\begin{description}\n",
       "\\item[\\$xlog] FALSE\n",
       "\\item[\\$ylog] FALSE\n",
       "\\item[\\$adj] 0.5\n",
       "\\item[\\$ann] TRUE\n",
       "\\item[\\$ask] FALSE\n",
       "\\item[\\$bg] 'white'\n",
       "\\item[\\$bty] 'o'\n",
       "\\item[\\$cex] 1\n",
       "\\item[\\$cex.axis] 1\n",
       "\\item[\\$cex.lab] 1\n",
       "\\item[\\$cex.main] 1.2\n",
       "\\item[\\$cex.sub] 1\n",
       "\\item[\\$cin] \\begin{enumerate*}\n",
       "\\item 0.15\n",
       "\\item 0.2\n",
       "\\end{enumerate*}\n",
       "\n",
       "\\item[\\$col] 'black'\n",
       "\\item[\\$col.axis] 'black'\n",
       "\\item[\\$col.lab] 'black'\n",
       "\\item[\\$col.main] 'black'\n",
       "\\item[\\$col.sub] 'black'\n",
       "\\item[\\$cra] \\begin{enumerate*}\n",
       "\\item 10.8\n",
       "\\item 14.4\n",
       "\\end{enumerate*}\n",
       "\n",
       "\\item[\\$crt] 0\n",
       "\\item[\\$csi] 0.2\n",
       "\\item[\\$cxy] \\begin{enumerate*}\n",
       "\\item 0.0276412776412776\n",
       "\\item 0.0414364640883978\n",
       "\\end{enumerate*}\n",
       "\n",
       "\\item[\\$din] \\begin{enumerate*}\n",
       "\\item 6.66666666666667\n",
       "\\item 6.66666666666667\n",
       "\\end{enumerate*}\n",
       "\n",
       "\\item[\\$err] 0\n",
       "\\item[\\$family] ''\n",
       "\\item[\\$fg] 'black'\n",
       "\\item[\\$fig] \\begin{enumerate*}\n",
       "\\item 0\n",
       "\\item 1\n",
       "\\item 0\n",
       "\\item 1\n",
       "\\end{enumerate*}\n",
       "\n",
       "\\item[\\$fin] \\begin{enumerate*}\n",
       "\\item 6.66666666666667\n",
       "\\item 6.66666666666667\n",
       "\\end{enumerate*}\n",
       "\n",
       "\\item[\\$font] 1\n",
       "\\item[\\$font.axis] 1\n",
       "\\item[\\$font.lab] 1\n",
       "\\item[\\$font.main] 2\n",
       "\\item[\\$font.sub] 1\n",
       "\\item[\\$lab] \\begin{enumerate*}\n",
       "\\item 5\n",
       "\\item 5\n",
       "\\item 7\n",
       "\\end{enumerate*}\n",
       "\n",
       "\\item[\\$las] 0\n",
       "\\item[\\$lend] 'round'\n",
       "\\item[\\$lheight] 1\n",
       "\\item[\\$ljoin] 'round'\n",
       "\\item[\\$lmitre] 10\n",
       "\\item[\\$lty] 'solid'\n",
       "\\item[\\$lwd] 1\n",
       "\\item[\\$mai] \\begin{enumerate*}\n",
       "\\item 1.02\n",
       "\\item 0.82\n",
       "\\item 0.82\n",
       "\\item 0.42\n",
       "\\end{enumerate*}\n",
       "\n",
       "\\item[\\$mar] \\begin{enumerate*}\n",
       "\\item 5.1\n",
       "\\item 4.1\n",
       "\\item 4.1\n",
       "\\item 2.1\n",
       "\\end{enumerate*}\n",
       "\n",
       "\\item[\\$mex] 1\n",
       "\\item[\\$mfcol] \\begin{enumerate*}\n",
       "\\item 1\n",
       "\\item 1\n",
       "\\end{enumerate*}\n",
       "\n",
       "\\item[\\$mfg] \\begin{enumerate*}\n",
       "\\item 1\n",
       "\\item 1\n",
       "\\item 1\n",
       "\\item 1\n",
       "\\end{enumerate*}\n",
       "\n",
       "\\item[\\$mfrow] \\begin{enumerate*}\n",
       "\\item 1\n",
       "\\item 1\n",
       "\\end{enumerate*}\n",
       "\n",
       "\\item[\\$mgp] \\begin{enumerate*}\n",
       "\\item 3\n",
       "\\item 1\n",
       "\\item 0\n",
       "\\end{enumerate*}\n",
       "\n",
       "\\item[\\$mkh] 0.001\n",
       "\\item[\\$new] FALSE\n",
       "\\item[\\$oma] \\begin{enumerate*}\n",
       "\\item 0\n",
       "\\item 0\n",
       "\\item 0\n",
       "\\item 0\n",
       "\\end{enumerate*}\n",
       "\n",
       "\\item[\\$omd] \\begin{enumerate*}\n",
       "\\item 0\n",
       "\\item 1\n",
       "\\item 0\n",
       "\\item 1\n",
       "\\end{enumerate*}\n",
       "\n",
       "\\item[\\$omi] \\begin{enumerate*}\n",
       "\\item 0\n",
       "\\item 0\n",
       "\\item 0\n",
       "\\item 0\n",
       "\\end{enumerate*}\n",
       "\n",
       "\\item[\\$page] TRUE\n",
       "\\item[\\$pch] 1\n",
       "\\item[\\$pin] \\begin{enumerate*}\n",
       "\\item 5.42666666666667\n",
       "\\item 4.82666666666667\n",
       "\\end{enumerate*}\n",
       "\n",
       "\\item[\\$plt] \\begin{enumerate*}\n",
       "\\item 0.123\n",
       "\\item 0.937\n",
       "\\item 0.153\n",
       "\\item 0.877\n",
       "\\end{enumerate*}\n",
       "\n",
       "\\item[\\$ps] 12\n",
       "\\item[\\$pty] 'm'\n",
       "\\item[\\$smo] 1\n",
       "\\item[\\$srt] 0\n",
       "\\item[\\$tck] <NA>\n",
       "\\item[\\$tcl] -0.5\n",
       "\\item[\\$usr] \\begin{enumerate*}\n",
       "\\item 0\n",
       "\\item 1\n",
       "\\item 0\n",
       "\\item 1\n",
       "\\end{enumerate*}\n",
       "\n",
       "\\item[\\$xaxp] \\begin{enumerate*}\n",
       "\\item 0\n",
       "\\item 1\n",
       "\\item 5\n",
       "\\end{enumerate*}\n",
       "\n",
       "\\item[\\$xaxs] 'r'\n",
       "\\item[\\$xaxt] 's'\n",
       "\\item[\\$xpd] FALSE\n",
       "\\item[\\$yaxp] \\begin{enumerate*}\n",
       "\\item 0\n",
       "\\item 1\n",
       "\\item 5\n",
       "\\end{enumerate*}\n",
       "\n",
       "\\item[\\$yaxs] 'r'\n",
       "\\item[\\$yaxt] 's'\n",
       "\\item[\\$ylbias] 0.2\n",
       "\\end{description}\n"
      ],
      "text/markdown": [
       "$xlog\n",
       ":   FALSE\n",
       "$ylog\n",
       ":   FALSE\n",
       "$adj\n",
       ":   0.5\n",
       "$ann\n",
       ":   TRUE\n",
       "$ask\n",
       ":   FALSE\n",
       "$bg\n",
       ":   'white'\n",
       "$bty\n",
       ":   'o'\n",
       "$cex\n",
       ":   1\n",
       "$cex.axis\n",
       ":   1\n",
       "$cex.lab\n",
       ":   1\n",
       "$cex.main\n",
       ":   1.2\n",
       "$cex.sub\n",
       ":   1\n",
       "$cin\n",
       ":   1. 0.15\n",
       "2. 0.2\n",
       "\n",
       "\n",
       "\n",
       "$col\n",
       ":   'black'\n",
       "$col.axis\n",
       ":   'black'\n",
       "$col.lab\n",
       ":   'black'\n",
       "$col.main\n",
       ":   'black'\n",
       "$col.sub\n",
       ":   'black'\n",
       "$cra\n",
       ":   1. 10.8\n",
       "2. 14.4\n",
       "\n",
       "\n",
       "\n",
       "$crt\n",
       ":   0\n",
       "$csi\n",
       ":   0.2\n",
       "$cxy\n",
       ":   1. 0.0276412776412776\n",
       "2. 0.0414364640883978\n",
       "\n",
       "\n",
       "\n",
       "$din\n",
       ":   1. 6.66666666666667\n",
       "2. 6.66666666666667\n",
       "\n",
       "\n",
       "\n",
       "$err\n",
       ":   0\n",
       "$family\n",
       ":   ''\n",
       "$fg\n",
       ":   'black'\n",
       "$fig\n",
       ":   1. 0\n",
       "2. 1\n",
       "3. 0\n",
       "4. 1\n",
       "\n",
       "\n",
       "\n",
       "$fin\n",
       ":   1. 6.66666666666667\n",
       "2. 6.66666666666667\n",
       "\n",
       "\n",
       "\n",
       "$font\n",
       ":   1\n",
       "$font.axis\n",
       ":   1\n",
       "$font.lab\n",
       ":   1\n",
       "$font.main\n",
       ":   2\n",
       "$font.sub\n",
       ":   1\n",
       "$lab\n",
       ":   1. 5\n",
       "2. 5\n",
       "3. 7\n",
       "\n",
       "\n",
       "\n",
       "$las\n",
       ":   0\n",
       "$lend\n",
       ":   'round'\n",
       "$lheight\n",
       ":   1\n",
       "$ljoin\n",
       ":   'round'\n",
       "$lmitre\n",
       ":   10\n",
       "$lty\n",
       ":   'solid'\n",
       "$lwd\n",
       ":   1\n",
       "$mai\n",
       ":   1. 1.02\n",
       "2. 0.82\n",
       "3. 0.82\n",
       "4. 0.42\n",
       "\n",
       "\n",
       "\n",
       "$mar\n",
       ":   1. 5.1\n",
       "2. 4.1\n",
       "3. 4.1\n",
       "4. 2.1\n",
       "\n",
       "\n",
       "\n",
       "$mex\n",
       ":   1\n",
       "$mfcol\n",
       ":   1. 1\n",
       "2. 1\n",
       "\n",
       "\n",
       "\n",
       "$mfg\n",
       ":   1. 1\n",
       "2. 1\n",
       "3. 1\n",
       "4. 1\n",
       "\n",
       "\n",
       "\n",
       "$mfrow\n",
       ":   1. 1\n",
       "2. 1\n",
       "\n",
       "\n",
       "\n",
       "$mgp\n",
       ":   1. 3\n",
       "2. 1\n",
       "3. 0\n",
       "\n",
       "\n",
       "\n",
       "$mkh\n",
       ":   0.001\n",
       "$new\n",
       ":   FALSE\n",
       "$oma\n",
       ":   1. 0\n",
       "2. 0\n",
       "3. 0\n",
       "4. 0\n",
       "\n",
       "\n",
       "\n",
       "$omd\n",
       ":   1. 0\n",
       "2. 1\n",
       "3. 0\n",
       "4. 1\n",
       "\n",
       "\n",
       "\n",
       "$omi\n",
       ":   1. 0\n",
       "2. 0\n",
       "3. 0\n",
       "4. 0\n",
       "\n",
       "\n",
       "\n",
       "$page\n",
       ":   TRUE\n",
       "$pch\n",
       ":   1\n",
       "$pin\n",
       ":   1. 5.42666666666667\n",
       "2. 4.82666666666667\n",
       "\n",
       "\n",
       "\n",
       "$plt\n",
       ":   1. 0.123\n",
       "2. 0.937\n",
       "3. 0.153\n",
       "4. 0.877\n",
       "\n",
       "\n",
       "\n",
       "$ps\n",
       ":   12\n",
       "$pty\n",
       ":   'm'\n",
       "$smo\n",
       ":   1\n",
       "$srt\n",
       ":   0\n",
       "$tck\n",
       ":   &lt;NA&gt;\n",
       "$tcl\n",
       ":   -0.5\n",
       "$usr\n",
       ":   1. 0\n",
       "2. 1\n",
       "3. 0\n",
       "4. 1\n",
       "\n",
       "\n",
       "\n",
       "$xaxp\n",
       ":   1. 0\n",
       "2. 1\n",
       "3. 5\n",
       "\n",
       "\n",
       "\n",
       "$xaxs\n",
       ":   'r'\n",
       "$xaxt\n",
       ":   's'\n",
       "$xpd\n",
       ":   FALSE\n",
       "$yaxp\n",
       ":   1. 0\n",
       "2. 1\n",
       "3. 5\n",
       "\n",
       "\n",
       "\n",
       "$yaxs\n",
       ":   'r'\n",
       "$yaxt\n",
       ":   's'\n",
       "$ylbias\n",
       ":   0.2\n",
       "\n",
       "\n"
      ],
      "text/plain": [
       "$xlog\n",
       "[1] FALSE\n",
       "\n",
       "$ylog\n",
       "[1] FALSE\n",
       "\n",
       "$adj\n",
       "[1] 0.5\n",
       "\n",
       "$ann\n",
       "[1] TRUE\n",
       "\n",
       "$ask\n",
       "[1] FALSE\n",
       "\n",
       "$bg\n",
       "[1] \"white\"\n",
       "\n",
       "$bty\n",
       "[1] \"o\"\n",
       "\n",
       "$cex\n",
       "[1] 1\n",
       "\n",
       "$cex.axis\n",
       "[1] 1\n",
       "\n",
       "$cex.lab\n",
       "[1] 1\n",
       "\n",
       "$cex.main\n",
       "[1] 1.2\n",
       "\n",
       "$cex.sub\n",
       "[1] 1\n",
       "\n",
       "$cin\n",
       "[1] 0.15 0.20\n",
       "\n",
       "$col\n",
       "[1] \"black\"\n",
       "\n",
       "$col.axis\n",
       "[1] \"black\"\n",
       "\n",
       "$col.lab\n",
       "[1] \"black\"\n",
       "\n",
       "$col.main\n",
       "[1] \"black\"\n",
       "\n",
       "$col.sub\n",
       "[1] \"black\"\n",
       "\n",
       "$cra\n",
       "[1] 10.8 14.4\n",
       "\n",
       "$crt\n",
       "[1] 0\n",
       "\n",
       "$csi\n",
       "[1] 0.2\n",
       "\n",
       "$cxy\n",
       "[1] 0.02764128 0.04143646\n",
       "\n",
       "$din\n",
       "[1] 6.666667 6.666667\n",
       "\n",
       "$err\n",
       "[1] 0\n",
       "\n",
       "$family\n",
       "[1] \"\"\n",
       "\n",
       "$fg\n",
       "[1] \"black\"\n",
       "\n",
       "$fig\n",
       "[1] 0 1 0 1\n",
       "\n",
       "$fin\n",
       "[1] 6.666667 6.666667\n",
       "\n",
       "$font\n",
       "[1] 1\n",
       "\n",
       "$font.axis\n",
       "[1] 1\n",
       "\n",
       "$font.lab\n",
       "[1] 1\n",
       "\n",
       "$font.main\n",
       "[1] 2\n",
       "\n",
       "$font.sub\n",
       "[1] 1\n",
       "\n",
       "$lab\n",
       "[1] 5 5 7\n",
       "\n",
       "$las\n",
       "[1] 0\n",
       "\n",
       "$lend\n",
       "[1] \"round\"\n",
       "\n",
       "$lheight\n",
       "[1] 1\n",
       "\n",
       "$ljoin\n",
       "[1] \"round\"\n",
       "\n",
       "$lmitre\n",
       "[1] 10\n",
       "\n",
       "$lty\n",
       "[1] \"solid\"\n",
       "\n",
       "$lwd\n",
       "[1] 1\n",
       "\n",
       "$mai\n",
       "[1] 1.02 0.82 0.82 0.42\n",
       "\n",
       "$mar\n",
       "[1] 5.1 4.1 4.1 2.1\n",
       "\n",
       "$mex\n",
       "[1] 1\n",
       "\n",
       "$mfcol\n",
       "[1] 1 1\n",
       "\n",
       "$mfg\n",
       "[1] 1 1 1 1\n",
       "\n",
       "$mfrow\n",
       "[1] 1 1\n",
       "\n",
       "$mgp\n",
       "[1] 3 1 0\n",
       "\n",
       "$mkh\n",
       "[1] 0.001\n",
       "\n",
       "$new\n",
       "[1] FALSE\n",
       "\n",
       "$oma\n",
       "[1] 0 0 0 0\n",
       "\n",
       "$omd\n",
       "[1] 0 1 0 1\n",
       "\n",
       "$omi\n",
       "[1] 0 0 0 0\n",
       "\n",
       "$page\n",
       "[1] TRUE\n",
       "\n",
       "$pch\n",
       "[1] 1\n",
       "\n",
       "$pin\n",
       "[1] 5.426667 4.826667\n",
       "\n",
       "$plt\n",
       "[1] 0.123 0.937 0.153 0.877\n",
       "\n",
       "$ps\n",
       "[1] 12\n",
       "\n",
       "$pty\n",
       "[1] \"m\"\n",
       "\n",
       "$smo\n",
       "[1] 1\n",
       "\n",
       "$srt\n",
       "[1] 0\n",
       "\n",
       "$tck\n",
       "[1] NA\n",
       "\n",
       "$tcl\n",
       "[1] -0.5\n",
       "\n",
       "$usr\n",
       "[1] 0 1 0 1\n",
       "\n",
       "$xaxp\n",
       "[1] 0 1 5\n",
       "\n",
       "$xaxs\n",
       "[1] \"r\"\n",
       "\n",
       "$xaxt\n",
       "[1] \"s\"\n",
       "\n",
       "$xpd\n",
       "[1] FALSE\n",
       "\n",
       "$yaxp\n",
       "[1] 0 1 5\n",
       "\n",
       "$yaxs\n",
       "[1] \"r\"\n",
       "\n",
       "$yaxt\n",
       "[1] \"s\"\n",
       "\n",
       "$ylbias\n",
       "[1] 0.2\n"
      ]
     },
     "metadata": {},
     "output_type": "display_data"
    }
   ],
   "source": [
    "par()"
   ]
  },
  {
   "cell_type": "code",
   "execution_count": 21,
   "id": "cf2da69e",
   "metadata": {},
   "outputs": [
    {
     "data": {
      "text/html": [
       "72"
      ],
      "text/latex": [
       "72"
      ],
      "text/markdown": [
       "72"
      ],
      "text/plain": [
       "[1] 72"
      ]
     },
     "metadata": {},
     "output_type": "display_data"
    }
   ],
   "source": [
    "length(par())"
   ]
  },
  {
   "cell_type": "code",
   "execution_count": 22,
   "id": "7eae5763",
   "metadata": {},
   "outputs": [],
   "source": [
    "?sum"
   ]
  },
  {
   "cell_type": "code",
   "execution_count": 23,
   "id": "5a76bd06",
   "metadata": {},
   "outputs": [],
   "source": [
    "?sd"
   ]
  },
  {
   "cell_type": "code",
   "execution_count": 24,
   "id": "5ccdb1ec",
   "metadata": {},
   "outputs": [],
   "source": [
    "?plot"
   ]
  },
  {
   "cell_type": "code",
   "execution_count": 25,
   "id": "67b432ea",
   "metadata": {},
   "outputs": [
    {
     "name": "stderr",
     "output_type": "stream",
     "text": [
      "Installing package into ‘/home/hduser/R/x86_64-pc-linux-gnu-library/4.3’\n",
      "(as ‘lib’ is unspecified)\n",
      "\n"
     ]
    }
   ],
   "source": [
    "install.packages('scatterplot3d')"
   ]
  },
  {
   "cell_type": "code",
   "execution_count": 26,
   "id": "4fbdc3f1",
   "metadata": {},
   "outputs": [],
   "source": [
    "library(scatterplot3d)"
   ]
  },
  {
   "cell_type": "code",
   "execution_count": 27,
   "id": "f8f248f4",
   "metadata": {},
   "outputs": [],
   "source": [
    "?scatterplot3d"
   ]
  },
  {
   "cell_type": "code",
   "execution_count": 28,
   "id": "541c3fdd",
   "metadata": {},
   "outputs": [
    {
     "data": {
      "text/html": [
       "<table class=\"dataframe\">\n",
       "<caption>A data.frame: 15 × 2</caption>\n",
       "<thead>\n",
       "\t<tr><th scope=col>height</th><th scope=col>weight</th></tr>\n",
       "\t<tr><th scope=col>&lt;dbl&gt;</th><th scope=col>&lt;dbl&gt;</th></tr>\n",
       "</thead>\n",
       "<tbody>\n",
       "\t<tr><td>58</td><td>115</td></tr>\n",
       "\t<tr><td>59</td><td>117</td></tr>\n",
       "\t<tr><td>60</td><td>120</td></tr>\n",
       "\t<tr><td>61</td><td>123</td></tr>\n",
       "\t<tr><td>62</td><td>126</td></tr>\n",
       "\t<tr><td>63</td><td>129</td></tr>\n",
       "\t<tr><td>64</td><td>132</td></tr>\n",
       "\t<tr><td>65</td><td>135</td></tr>\n",
       "\t<tr><td>66</td><td>139</td></tr>\n",
       "\t<tr><td>67</td><td>142</td></tr>\n",
       "\t<tr><td>68</td><td>146</td></tr>\n",
       "\t<tr><td>69</td><td>150</td></tr>\n",
       "\t<tr><td>70</td><td>154</td></tr>\n",
       "\t<tr><td>71</td><td>159</td></tr>\n",
       "\t<tr><td>72</td><td>164</td></tr>\n",
       "</tbody>\n",
       "</table>\n"
      ],
      "text/latex": [
       "A data.frame: 15 × 2\n",
       "\\begin{tabular}{ll}\n",
       " height & weight\\\\\n",
       " <dbl> & <dbl>\\\\\n",
       "\\hline\n",
       "\t 58 & 115\\\\\n",
       "\t 59 & 117\\\\\n",
       "\t 60 & 120\\\\\n",
       "\t 61 & 123\\\\\n",
       "\t 62 & 126\\\\\n",
       "\t 63 & 129\\\\\n",
       "\t 64 & 132\\\\\n",
       "\t 65 & 135\\\\\n",
       "\t 66 & 139\\\\\n",
       "\t 67 & 142\\\\\n",
       "\t 68 & 146\\\\\n",
       "\t 69 & 150\\\\\n",
       "\t 70 & 154\\\\\n",
       "\t 71 & 159\\\\\n",
       "\t 72 & 164\\\\\n",
       "\\end{tabular}\n"
      ],
      "text/markdown": [
       "\n",
       "A data.frame: 15 × 2\n",
       "\n",
       "| height &lt;dbl&gt; | weight &lt;dbl&gt; |\n",
       "|---|---|\n",
       "| 58 | 115 |\n",
       "| 59 | 117 |\n",
       "| 60 | 120 |\n",
       "| 61 | 123 |\n",
       "| 62 | 126 |\n",
       "| 63 | 129 |\n",
       "| 64 | 132 |\n",
       "| 65 | 135 |\n",
       "| 66 | 139 |\n",
       "| 67 | 142 |\n",
       "| 68 | 146 |\n",
       "| 69 | 150 |\n",
       "| 70 | 154 |\n",
       "| 71 | 159 |\n",
       "| 72 | 164 |\n",
       "\n"
      ],
      "text/plain": [
       "   height weight\n",
       "1  58     115   \n",
       "2  59     117   \n",
       "3  60     120   \n",
       "4  61     123   \n",
       "5  62     126   \n",
       "6  63     129   \n",
       "7  64     132   \n",
       "8  65     135   \n",
       "9  66     139   \n",
       "10 67     142   \n",
       "11 68     146   \n",
       "12 69     150   \n",
       "13 70     154   \n",
       "14 71     159   \n",
       "15 72     164   "
      ]
     },
     "metadata": {},
     "output_type": "display_data"
    }
   ],
   "source": [
    "women"
   ]
  },
  {
   "cell_type": "code",
   "execution_count": 29,
   "id": "4f300346",
   "metadata": {},
   "outputs": [
    {
     "data": {
      "image/png": "[encoded data removed]",
      "text/plain": [
       "plot without title"
      ]
     },
     "metadata": {
      "image/png": {
       "height": 420,
       "width": 420
      }
     },
     "output_type": "display_data"
    }
   ],
   "source": [
    "plot(women$height ~ women$weight)"
   ]
  },
  {
   "cell_type": "code",
   "execution_count": 30,
   "id": "fd8b5d86",
   "metadata": {},
   "outputs": [],
   "source": [
    "fit <- lm(weight ~ height, data = women)"
   ]
  },
  {
   "cell_type": "code",
   "execution_count": 31,
   "id": "b9e1ab47",
   "metadata": {},
   "outputs": [
    {
     "data": {
      "text/plain": [
       "\n",
       "Call:\n",
       "lm(formula = weight ~ height, data = women)\n",
       "\n",
       "Coefficients:\n",
       "(Intercept)       height  \n",
       "     -87.52         3.45  \n"
      ]
     },
     "metadata": {},
     "output_type": "display_data"
    }
   ],
   "source": [
    "fit"
   ]
  },
  {
   "cell_type": "code",
   "execution_count": 32,
   "id": "b70fe32b",
   "metadata": {},
   "outputs": [
    {
     "data": {
      "text/plain": [
       "\n",
       "Call:\n",
       "lm(formula = weight ~ height, data = women)\n",
       "\n",
       "Residuals:\n",
       "    Min      1Q  Median      3Q     Max \n",
       "-1.7333 -1.1333 -0.3833  0.7417  3.1167 \n",
       "\n",
       "Coefficients:\n",
       "             Estimate Std. Error t value Pr(>|t|)    \n",
       "(Intercept) -87.51667    5.93694  -14.74 1.71e-09 ***\n",
       "height        3.45000    0.09114   37.85 1.09e-14 ***\n",
       "---\n",
       "Signif. codes:  0 ‘***’ 0.001 ‘**’ 0.01 ‘*’ 0.05 ‘.’ 0.1 ‘ ’ 1\n",
       "\n",
       "Residual standard error: 1.525 on 13 degrees of freedom\n",
       "Multiple R-squared:  0.991,\tAdjusted R-squared:  0.9903 \n",
       "F-statistic:  1433 on 1 and 13 DF,  p-value: 1.091e-14\n"
      ]
     },
     "metadata": {},
     "output_type": "display_data"
    }
   ],
   "source": [
    "summary.lm(fit)"
   ]
  },
  {
   "cell_type": "code",
   "execution_count": 33,
   "id": "2eba27bf",
   "metadata": {},
   "outputs": [
    {
     "data": {
      "text/html": [
       "<style>\n",
       ".dl-inline {width: auto; margin:0; padding: 0}\n",
       ".dl-inline>dt, .dl-inline>dd {float: none; width: auto; display: inline-block}\n",
       ".dl-inline>dt::after {content: \":\\0020\"; padding-right: .5ex}\n",
       ".dl-inline>dt:not(:first-of-type) {padding-left: .5ex}\n",
       "</style><dl class=dl-inline><dt>(Intercept)</dt><dd>-87.5166666666662</dd><dt>height</dt><dd>3.44999999999999</dd></dl>\n"
      ],
      "text/latex": [
       "\\begin{description*}\n",
       "\\item[(Intercept)] -87.5166666666662\n",
       "\\item[height] 3.44999999999999\n",
       "\\end{description*}\n"
      ],
      "text/markdown": [
       "(Intercept)\n",
       ":   -87.5166666666662height\n",
       ":   3.44999999999999\n",
       "\n"
      ],
      "text/plain": [
       "(Intercept)      height \n",
       "  -87.51667     3.45000 "
      ]
     },
     "metadata": {},
     "output_type": "display_data"
    }
   ],
   "source": [
    "coefficients(fit)"
   ]
  },
  {
   "cell_type": "code",
   "execution_count": 34,
   "id": "a3d0db10",
   "metadata": {},
   "outputs": [
    {
     "data": {
      "text/html": [
       "<table class=\"dataframe\">\n",
       "<caption>A matrix: 2 × 2 of type dbl</caption>\n",
       "<thead>\n",
       "\t<tr><th></th><th scope=col>2.5 %</th><th scope=col>97.5 %</th></tr>\n",
       "</thead>\n",
       "<tbody>\n",
       "\t<tr><th scope=row>(Intercept)</th><td>-100.342655</td><td>-74.690679</td></tr>\n",
       "\t<tr><th scope=row>height</th><td>   3.253112</td><td>  3.646888</td></tr>\n",
       "</tbody>\n",
       "</table>\n"
      ],
      "text/latex": [
       "A matrix: 2 × 2 of type dbl\n",
       "\\begin{tabular}{r|ll}\n",
       "  & 2.5 \\% & 97.5 \\%\\\\\n",
       "\\hline\n",
       "\t(Intercept) & -100.342655 & -74.690679\\\\\n",
       "\theight &    3.253112 &   3.646888\\\\\n",
       "\\end{tabular}\n"
      ],
      "text/markdown": [
       "\n",
       "A matrix: 2 × 2 of type dbl\n",
       "\n",
       "| <!--/--> | 2.5 % | 97.5 % |\n",
       "|---|---|---|\n",
       "| (Intercept) | -100.342655 | -74.690679 |\n",
       "| height |    3.253112 |   3.646888 |\n",
       "\n"
      ],
      "text/plain": [
       "            2.5 %       97.5 %    \n",
       "(Intercept) -100.342655 -74.690679\n",
       "height         3.253112   3.646888"
      ]
     },
     "metadata": {},
     "output_type": "display_data"
    }
   ],
   "source": [
    "confint(fit)"
   ]
  },
  {
   "cell_type": "code",
   "execution_count": 35,
   "id": "2c83ad85",
   "metadata": {},
   "outputs": [
    {
     "data": {
      "text/html": [
       "<table class=\"dataframe\">\n",
       "<caption>A matrix: 2 × 2 of type dbl</caption>\n",
       "<thead>\n",
       "\t<tr><th></th><th scope=col>25 %</th><th scope=col>75 %</th></tr>\n",
       "</thead>\n",
       "<tbody>\n",
       "\t<tr><th scope=row>(Intercept)</th><td>-91.635892</td><td>-83.397441</td></tr>\n",
       "\t<tr><th scope=row>height</th><td>  3.386767</td><td>  3.513233</td></tr>\n",
       "</tbody>\n",
       "</table>\n"
      ],
      "text/latex": [
       "A matrix: 2 × 2 of type dbl\n",
       "\\begin{tabular}{r|ll}\n",
       "  & 25 \\% & 75 \\%\\\\\n",
       "\\hline\n",
       "\t(Intercept) & -91.635892 & -83.397441\\\\\n",
       "\theight &   3.386767 &   3.513233\\\\\n",
       "\\end{tabular}\n"
      ],
      "text/markdown": [
       "\n",
       "A matrix: 2 × 2 of type dbl\n",
       "\n",
       "| <!--/--> | 25 % | 75 % |\n",
       "|---|---|---|\n",
       "| (Intercept) | -91.635892 | -83.397441 |\n",
       "| height |   3.386767 |   3.513233 |\n",
       "\n"
      ],
      "text/plain": [
       "            25 %       75 %      \n",
       "(Intercept) -91.635892 -83.397441\n",
       "height        3.386767   3.513233"
      ]
     },
     "metadata": {},
     "output_type": "display_data"
    }
   ],
   "source": [
    "confint(fit, level = 0.5)"
   ]
  },
  {
   "cell_type": "code",
   "execution_count": 36,
   "id": "4492cedb",
   "metadata": {},
   "outputs": [
    {
     "data": {
      "text/html": [
       "<style>\n",
       ".dl-inline {width: auto; margin:0; padding: 0}\n",
       ".dl-inline>dt, .dl-inline>dd {float: none; width: auto; display: inline-block}\n",
       ".dl-inline>dt::after {content: \":\\0020\"; padding-right: .5ex}\n",
       ".dl-inline>dt:not(:first-of-type) {padding-left: .5ex}\n",
       "</style><dl class=dl-inline><dt>1</dt><dd>112.583333333333</dd><dt>2</dt><dd>116.033333333333</dd><dt>3</dt><dd>119.483333333333</dd><dt>4</dt><dd>122.933333333333</dd><dt>5</dt><dd>126.383333333333</dd><dt>6</dt><dd>129.833333333333</dd><dt>7</dt><dd>133.283333333333</dd><dt>8</dt><dd>136.733333333333</dd><dt>9</dt><dd>140.183333333333</dd><dt>10</dt><dd>143.633333333333</dd><dt>11</dt><dd>147.083333333333</dd><dt>12</dt><dd>150.533333333333</dd><dt>13</dt><dd>153.983333333333</dd><dt>14</dt><dd>157.433333333333</dd><dt>15</dt><dd>160.883333333333</dd></dl>\n"
      ],
      "text/latex": [
       "\\begin{description*}\n",
       "\\item[1] 112.583333333333\n",
       "\\item[2] 116.033333333333\n",
       "\\item[3] 119.483333333333\n",
       "\\item[4] 122.933333333333\n",
       "\\item[5] 126.383333333333\n",
       "\\item[6] 129.833333333333\n",
       "\\item[7] 133.283333333333\n",
       "\\item[8] 136.733333333333\n",
       "\\item[9] 140.183333333333\n",
       "\\item[10] 143.633333333333\n",
       "\\item[11] 147.083333333333\n",
       "\\item[12] 150.533333333333\n",
       "\\item[13] 153.983333333333\n",
       "\\item[14] 157.433333333333\n",
       "\\item[15] 160.883333333333\n",
       "\\end{description*}\n"
      ],
      "text/markdown": [
       "1\n",
       ":   112.5833333333332\n",
       ":   116.0333333333333\n",
       ":   119.4833333333334\n",
       ":   122.9333333333335\n",
       ":   126.3833333333336\n",
       ":   129.8333333333337\n",
       ":   133.2833333333338\n",
       ":   136.7333333333339\n",
       ":   140.18333333333310\n",
       ":   143.63333333333311\n",
       ":   147.08333333333312\n",
       ":   150.53333333333313\n",
       ":   153.98333333333314\n",
       ":   157.43333333333315\n",
       ":   160.883333333333\n",
       "\n"
      ],
      "text/plain": [
       "       1        2        3        4        5        6        7        8 \n",
       "112.5833 116.0333 119.4833 122.9333 126.3833 129.8333 133.2833 136.7333 \n",
       "       9       10       11       12       13       14       15 \n",
       "140.1833 143.6333 147.0833 150.5333 153.9833 157.4333 160.8833 "
      ]
     },
     "metadata": {},
     "output_type": "display_data"
    }
   ],
   "source": [
    "fitted(fit)"
   ]
  },
  {
   "cell_type": "code",
   "execution_count": 37,
   "id": "4281ec99",
   "metadata": {},
   "outputs": [
    {
     "data": {
      "text/html": [
       "<style>\n",
       ".dl-inline {width: auto; margin:0; padding: 0}\n",
       ".dl-inline>dt, .dl-inline>dd {float: none; width: auto; display: inline-block}\n",
       ".dl-inline>dt::after {content: \":\\0020\"; padding-right: .5ex}\n",
       ".dl-inline>dt:not(:first-of-type) {padding-left: .5ex}\n",
       "</style><dl class=dl-inline><dt>1</dt><dd>2.41666666666684</dd><dt>2</dt><dd>0.966666666666612</dd><dt>3</dt><dd>0.516666666666623</dd><dt>4</dt><dd>0.0666666666666202</dd><dt>5</dt><dd>-0.383333333333368</dd><dt>6</dt><dd>-0.833333333333371</dd><dt>7</dt><dd>-1.28333333333336</dd><dt>8</dt><dd>-1.73333333333335</dd><dt>9</dt><dd>-1.18333333333334</dd><dt>10</dt><dd>-1.63333333333333</dd><dt>11</dt><dd>-1.08333333333331</dd><dt>12</dt><dd>-0.533333333333331</dd><dt>13</dt><dd>0.0166666666666799</dd><dt>14</dt><dd>1.56666666666669</dd><dt>15</dt><dd>3.1166666666667</dd></dl>\n"
      ],
      "text/latex": [
       "\\begin{description*}\n",
       "\\item[1] 2.41666666666684\n",
       "\\item[2] 0.966666666666612\n",
       "\\item[3] 0.516666666666623\n",
       "\\item[4] 0.0666666666666202\n",
       "\\item[5] -0.383333333333368\n",
       "\\item[6] -0.833333333333371\n",
       "\\item[7] -1.28333333333336\n",
       "\\item[8] -1.73333333333335\n",
       "\\item[9] -1.18333333333334\n",
       "\\item[10] -1.63333333333333\n",
       "\\item[11] -1.08333333333331\n",
       "\\item[12] -0.533333333333331\n",
       "\\item[13] 0.0166666666666799\n",
       "\\item[14] 1.56666666666669\n",
       "\\item[15] 3.1166666666667\n",
       "\\end{description*}\n"
      ],
      "text/markdown": [
       "1\n",
       ":   2.416666666666842\n",
       ":   0.9666666666666123\n",
       ":   0.5166666666666234\n",
       ":   0.06666666666662025\n",
       ":   -0.3833333333333686\n",
       ":   -0.8333333333333717\n",
       ":   -1.283333333333368\n",
       ":   -1.733333333333359\n",
       ":   -1.1833333333333410\n",
       ":   -1.6333333333333311\n",
       ":   -1.0833333333333112\n",
       ":   -0.53333333333333113\n",
       ":   0.016666666666679914\n",
       ":   1.5666666666666915\n",
       ":   3.1166666666667\n",
       "\n"
      ],
      "text/plain": [
       "          1           2           3           4           5           6 \n",
       " 2.41666667  0.96666667  0.51666667  0.06666667 -0.38333333 -0.83333333 \n",
       "          7           8           9          10          11          12 \n",
       "-1.28333333 -1.73333333 -1.18333333 -1.63333333 -1.08333333 -0.53333333 \n",
       "         13          14          15 \n",
       " 0.01666667  1.56666667  3.11666667 "
      ]
     },
     "metadata": {},
     "output_type": "display_data"
    }
   ],
   "source": [
    "women$weight-fitted(fit)"
   ]
  },
  {
   "cell_type": "code",
   "execution_count": 38,
   "id": "61e85e8c",
   "metadata": {},
   "outputs": [
    {
     "data": {
      "text/html": [
       "<style>\n",
       ".dl-inline {width: auto; margin:0; padding: 0}\n",
       ".dl-inline>dt, .dl-inline>dd {float: none; width: auto; display: inline-block}\n",
       ".dl-inline>dt::after {content: \":\\0020\"; padding-right: .5ex}\n",
       ".dl-inline>dt:not(:first-of-type) {padding-left: .5ex}\n",
       "</style><dl class=dl-inline><dt>1</dt><dd>2.41666666666684</dd><dt>2</dt><dd>0.96666666666661</dd><dt>3</dt><dd>0.516666666666618</dd><dt>4</dt><dd>0.0666666666666248</dd><dt>5</dt><dd>-0.383333333333369</dd><dt>6</dt><dd>-0.833333333333362</dd><dt>7</dt><dd>-1.28333333333336</dd><dt>8</dt><dd>-1.73333333333335</dd><dt>9</dt><dd>-1.18333333333334</dd><dt>10</dt><dd>-1.63333333333333</dd><dt>11</dt><dd>-1.08333333333333</dd><dt>12</dt><dd>-0.533333333333322</dd><dt>13</dt><dd>0.0166666666666827</dd><dt>14</dt><dd>1.56666666666669</dd><dt>15</dt><dd>3.1166666666667</dd></dl>\n"
      ],
      "text/latex": [
       "\\begin{description*}\n",
       "\\item[1] 2.41666666666684\n",
       "\\item[2] 0.96666666666661\n",
       "\\item[3] 0.516666666666618\n",
       "\\item[4] 0.0666666666666248\n",
       "\\item[5] -0.383333333333369\n",
       "\\item[6] -0.833333333333362\n",
       "\\item[7] -1.28333333333336\n",
       "\\item[8] -1.73333333333335\n",
       "\\item[9] -1.18333333333334\n",
       "\\item[10] -1.63333333333333\n",
       "\\item[11] -1.08333333333333\n",
       "\\item[12] -0.533333333333322\n",
       "\\item[13] 0.0166666666666827\n",
       "\\item[14] 1.56666666666669\n",
       "\\item[15] 3.1166666666667\n",
       "\\end{description*}\n"
      ],
      "text/markdown": [
       "1\n",
       ":   2.416666666666842\n",
       ":   0.966666666666613\n",
       ":   0.5166666666666184\n",
       ":   0.06666666666662485\n",
       ":   -0.3833333333333696\n",
       ":   -0.8333333333333627\n",
       ":   -1.283333333333368\n",
       ":   -1.733333333333359\n",
       ":   -1.1833333333333410\n",
       ":   -1.6333333333333311\n",
       ":   -1.0833333333333312\n",
       ":   -0.53333333333332213\n",
       ":   0.016666666666682714\n",
       ":   1.5666666666666915\n",
       ":   3.1166666666667\n",
       "\n"
      ],
      "text/plain": [
       "          1           2           3           4           5           6 \n",
       " 2.41666667  0.96666667  0.51666667  0.06666667 -0.38333333 -0.83333333 \n",
       "          7           8           9          10          11          12 \n",
       "-1.28333333 -1.73333333 -1.18333333 -1.63333333 -1.08333333 -0.53333333 \n",
       "         13          14          15 \n",
       " 0.01666667  1.56666667  3.11666667 "
      ]
     },
     "metadata": {},
     "output_type": "display_data"
    }
   ],
   "source": [
    "residuals(fit)"
   ]
  },
  {
   "cell_type": "code",
   "execution_count": 39,
   "id": "72d130f9",
   "metadata": {},
   "outputs": [],
   "source": [
    "women1 <- women"
   ]
  },
  {
   "cell_type": "code",
   "execution_count": 40,
   "id": "48d66cbc",
   "metadata": {},
   "outputs": [
    {
     "data": {
      "text/html": [
       "<style>\n",
       ".dl-inline {width: auto; margin:0; padding: 0}\n",
       ".dl-inline>dt, .dl-inline>dd {float: none; width: auto; display: inline-block}\n",
       ".dl-inline>dt::after {content: \":\\0020\"; padding-right: .5ex}\n",
       ".dl-inline>dt:not(:first-of-type) {padding-left: .5ex}\n",
       "</style><dl class=dl-inline><dt>1</dt><dd>112.583333333333</dd><dt>2</dt><dd>116.033333333333</dd><dt>3</dt><dd>119.483333333333</dd><dt>4</dt><dd>122.933333333333</dd><dt>5</dt><dd>126.383333333333</dd><dt>6</dt><dd>129.833333333333</dd><dt>7</dt><dd>133.283333333333</dd><dt>8</dt><dd>136.733333333333</dd><dt>9</dt><dd>140.183333333333</dd><dt>10</dt><dd>143.633333333333</dd><dt>11</dt><dd>147.083333333333</dd><dt>12</dt><dd>150.533333333333</dd><dt>13</dt><dd>153.983333333333</dd><dt>14</dt><dd>157.433333333333</dd><dt>15</dt><dd>160.883333333333</dd></dl>\n"
      ],
      "text/latex": [
       "\\begin{description*}\n",
       "\\item[1] 112.583333333333\n",
       "\\item[2] 116.033333333333\n",
       "\\item[3] 119.483333333333\n",
       "\\item[4] 122.933333333333\n",
       "\\item[5] 126.383333333333\n",
       "\\item[6] 129.833333333333\n",
       "\\item[7] 133.283333333333\n",
       "\\item[8] 136.733333333333\n",
       "\\item[9] 140.183333333333\n",
       "\\item[10] 143.633333333333\n",
       "\\item[11] 147.083333333333\n",
       "\\item[12] 150.533333333333\n",
       "\\item[13] 153.983333333333\n",
       "\\item[14] 157.433333333333\n",
       "\\item[15] 160.883333333333\n",
       "\\end{description*}\n"
      ],
      "text/markdown": [
       "1\n",
       ":   112.5833333333332\n",
       ":   116.0333333333333\n",
       ":   119.4833333333334\n",
       ":   122.9333333333335\n",
       ":   126.3833333333336\n",
       ":   129.8333333333337\n",
       ":   133.2833333333338\n",
       ":   136.7333333333339\n",
       ":   140.18333333333310\n",
       ":   143.63333333333311\n",
       ":   147.08333333333312\n",
       ":   150.53333333333313\n",
       ":   153.98333333333314\n",
       ":   157.43333333333315\n",
       ":   160.883333333333\n",
       "\n"
      ],
      "text/plain": [
       "       1        2        3        4        5        6        7        8 \n",
       "112.5833 116.0333 119.4833 122.9333 126.3833 129.8333 133.2833 136.7333 \n",
       "       9       10       11       12       13       14       15 \n",
       "140.1833 143.6333 147.0833 150.5333 153.9833 157.4333 160.8833 "
      ]
     },
     "metadata": {},
     "output_type": "display_data"
    }
   ],
   "source": [
    "predict(fit, women1)"
   ]
  },
  {
   "cell_type": "code",
   "execution_count": 41,
   "id": "4b62ca96",
   "metadata": {},
   "outputs": [
    {
     "data": {
      "text/html": [
       "<table class=\"dataframe\">\n",
       "<caption>A data.frame: 15 × 2</caption>\n",
       "<thead>\n",
       "\t<tr><th scope=col>height</th><th scope=col>weight</th></tr>\n",
       "\t<tr><th scope=col>&lt;dbl&gt;</th><th scope=col>&lt;dbl&gt;</th></tr>\n",
       "</thead>\n",
       "<tbody>\n",
       "\t<tr><td>58</td><td>115</td></tr>\n",
       "\t<tr><td>59</td><td>117</td></tr>\n",
       "\t<tr><td>60</td><td>120</td></tr>\n",
       "\t<tr><td>61</td><td>123</td></tr>\n",
       "\t<tr><td>62</td><td>126</td></tr>\n",
       "\t<tr><td>63</td><td>129</td></tr>\n",
       "\t<tr><td>64</td><td>132</td></tr>\n",
       "\t<tr><td>65</td><td>135</td></tr>\n",
       "\t<tr><td>66</td><td>139</td></tr>\n",
       "\t<tr><td>67</td><td>142</td></tr>\n",
       "\t<tr><td>68</td><td>146</td></tr>\n",
       "\t<tr><td>69</td><td>150</td></tr>\n",
       "\t<tr><td>70</td><td>154</td></tr>\n",
       "\t<tr><td>71</td><td>159</td></tr>\n",
       "\t<tr><td>72</td><td>164</td></tr>\n",
       "</tbody>\n",
       "</table>\n"
      ],
      "text/latex": [
       "A data.frame: 15 × 2\n",
       "\\begin{tabular}{ll}\n",
       " height & weight\\\\\n",
       " <dbl> & <dbl>\\\\\n",
       "\\hline\n",
       "\t 58 & 115\\\\\n",
       "\t 59 & 117\\\\\n",
       "\t 60 & 120\\\\\n",
       "\t 61 & 123\\\\\n",
       "\t 62 & 126\\\\\n",
       "\t 63 & 129\\\\\n",
       "\t 64 & 132\\\\\n",
       "\t 65 & 135\\\\\n",
       "\t 66 & 139\\\\\n",
       "\t 67 & 142\\\\\n",
       "\t 68 & 146\\\\\n",
       "\t 69 & 150\\\\\n",
       "\t 70 & 154\\\\\n",
       "\t 71 & 159\\\\\n",
       "\t 72 & 164\\\\\n",
       "\\end{tabular}\n"
      ],
      "text/markdown": [
       "\n",
       "A data.frame: 15 × 2\n",
       "\n",
       "| height &lt;dbl&gt; | weight &lt;dbl&gt; |\n",
       "|---|---|\n",
       "| 58 | 115 |\n",
       "| 59 | 117 |\n",
       "| 60 | 120 |\n",
       "| 61 | 123 |\n",
       "| 62 | 126 |\n",
       "| 63 | 129 |\n",
       "| 64 | 132 |\n",
       "| 65 | 135 |\n",
       "| 66 | 139 |\n",
       "| 67 | 142 |\n",
       "| 68 | 146 |\n",
       "| 69 | 150 |\n",
       "| 70 | 154 |\n",
       "| 71 | 159 |\n",
       "| 72 | 164 |\n",
       "\n"
      ],
      "text/plain": [
       "   height weight\n",
       "1  58     115   \n",
       "2  59     117   \n",
       "3  60     120   \n",
       "4  61     123   \n",
       "5  62     126   \n",
       "6  63     129   \n",
       "7  64     132   \n",
       "8  65     135   \n",
       "9  66     139   \n",
       "10 67     142   \n",
       "11 68     146   \n",
       "12 69     150   \n",
       "13 70     154   \n",
       "14 71     159   \n",
       "15 72     164   "
      ]
     },
     "metadata": {},
     "output_type": "display_data"
    }
   ],
   "source": [
    "women"
   ]
  },
  {
   "cell_type": "code",
   "execution_count": 42,
   "id": "4b168ba7",
   "metadata": {},
   "outputs": [
    {
     "data": {
      "image/png": "[encoded data removed]",
      "text/plain": [
       "Plot with title “”"
      ]
     },
     "metadata": {
      "image/png": {
       "height": 420,
       "width": 420
      }
     },
     "output_type": "display_data"
    },
    {
     "data": {
      "image/png": "[encoded data removed]",
      "text/plain": [
       "Plot with title “”"
      ]
     },
     "metadata": {
      "image/png": {
       "height": 420,
       "width": 420
      }
     },
     "output_type": "display_data"
    },
    {
     "data": {
      "image/png": "[encoded data removed]",
      "text/plain": [
       "Plot with title “”"
      ]
     },
     "metadata": {
      "image/png": {
       "height": 420,
       "width": 420
      }
     },
     "output_type": "display_data"
    },
    {
     "data": {
      "image/png": "[encoded data removed]",
      "text/plain": [
       "Plot with title “”"
      ]
     },
     "metadata": {
      "image/png": {
       "height": 420,
       "width": 420
      }
     },
     "output_type": "display_data"
    }
   ],
   "source": [
    "plot(fit)"
   ]
  },
  {
   "cell_type": "code",
   "execution_count": 46,
   "id": "12e4a367",
   "metadata": {},
   "outputs": [
    {
     "data": {
      "image/png": "[encoded data removed]",
      "text/plain": [
       "plot without title"
      ]
     },
     "metadata": {
      "image/png": {
       "height": 420,
       "width": 420
      }
     },
     "output_type": "display_data"
    }
   ],
   "source": [
    "plot(weight ~ height, data = women)\n",
    "abline(fit)"
   ]
  },
  {
   "cell_type": "code",
   "execution_count": 47,
   "id": "d88c1e90",
   "metadata": {},
   "outputs": [],
   "source": [
    "fit2 <- lm(weight~ height+I(height^2), data = women)"
   ]
  },
  {
   "cell_type": "code",
   "execution_count": 48,
   "id": "eac26a76",
   "metadata": {},
   "outputs": [
    {
     "data": {
      "text/plain": [
       "\n",
       "Call:\n",
       "lm(formula = weight ~ height + I(height^2), data = women)\n",
       "\n",
       "Coefficients:\n",
       "(Intercept)       height  I(height^2)  \n",
       "  261.87818     -7.34832      0.08306  \n"
      ]
     },
     "metadata": {},
     "output_type": "display_data"
    }
   ],
   "source": [
    "fit2"
   ]
  },
  {
   "cell_type": "code",
   "execution_count": 49,
   "id": "6674e10a",
   "metadata": {},
   "outputs": [
    {
     "data": {
      "text/plain": [
       "\n",
       "Call:\n",
       "lm(formula = weight ~ height + I(height^2), data = women)\n",
       "\n",
       "Residuals:\n",
       "     Min       1Q   Median       3Q      Max \n",
       "-0.50941 -0.29611 -0.00941  0.28615  0.59706 \n",
       "\n",
       "Coefficients:\n",
       "             Estimate Std. Error t value Pr(>|t|)    \n",
       "(Intercept) 261.87818   25.19677  10.393 2.36e-07 ***\n",
       "height       -7.34832    0.77769  -9.449 6.58e-07 ***\n",
       "I(height^2)   0.08306    0.00598  13.891 9.32e-09 ***\n",
       "---\n",
       "Signif. codes:  0 ‘***’ 0.001 ‘**’ 0.01 ‘*’ 0.05 ‘.’ 0.1 ‘ ’ 1\n",
       "\n",
       "Residual standard error: 0.3841 on 12 degrees of freedom\n",
       "Multiple R-squared:  0.9995,\tAdjusted R-squared:  0.9994 \n",
       "F-statistic: 1.139e+04 on 2 and 12 DF,  p-value: < 2.2e-16\n"
      ]
     },
     "metadata": {},
     "output_type": "display_data"
    }
   ],
   "source": [
    "summary(fit2)"
   ]
  },
  {
   "cell_type": "code",
   "execution_count": 50,
   "id": "e7d27990",
   "metadata": {},
   "outputs": [
    {
     "data": {
      "image/png": "[encoded data removed]",
      "text/plain": [
       "plot without title"
      ]
     },
     "metadata": {
      "image/png": {
       "height": 420,
       "width": 420
      }
     },
     "output_type": "display_data"
    }
   ],
   "source": [
    "plot(weight ~ height, data = women)\n",
    "abline(fit)\n",
    "lines (women$height, fitted(fit2), col = 'red')"
   ]
  },
  {
   "cell_type": "code",
   "execution_count": 52,
   "id": "0ac2d5b7",
   "metadata": {},
   "outputs": [],
   "source": [
    "fit3 <- lm(weight~ height+I(height^2)+I(height^3), data = women)"
   ]
  },
  {
   "cell_type": "code",
   "execution_count": 53,
   "id": "2112dc6d",
   "metadata": {},
   "outputs": [
    {
     "data": {
      "text/plain": [
       "\n",
       "Call:\n",
       "lm(formula = weight ~ height + I(height^2) + I(height^3), data = women)\n",
       "\n",
       "Coefficients:\n",
       "(Intercept)       height  I(height^2)  I(height^3)  \n",
       " -8.967e+02    4.641e+01   -7.462e-01    4.253e-03  \n"
      ]
     },
     "metadata": {},
     "output_type": "display_data"
    }
   ],
   "source": [
    "fit3"
   ]
  },
  {
   "cell_type": "code",
   "execution_count": 54,
   "id": "ca44c436",
   "metadata": {},
   "outputs": [
    {
     "data": {
      "text/plain": [
       "\n",
       "Call:\n",
       "lm(formula = weight ~ height + I(height^2) + I(height^3), data = women)\n",
       "\n",
       "Residuals:\n",
       "     Min       1Q   Median       3Q      Max \n",
       "-0.40677 -0.17391  0.03091  0.12051  0.42191 \n",
       "\n",
       "Coefficients:\n",
       "              Estimate Std. Error t value Pr(>|t|)   \n",
       "(Intercept) -8.967e+02  2.946e+02  -3.044  0.01116 * \n",
       "height       4.641e+01  1.366e+01   3.399  0.00594 **\n",
       "I(height^2) -7.462e-01  2.105e-01  -3.544  0.00460 **\n",
       "I(height^3)  4.253e-03  1.079e-03   3.940  0.00231 **\n",
       "---\n",
       "Signif. codes:  0 ‘***’ 0.001 ‘**’ 0.01 ‘*’ 0.05 ‘.’ 0.1 ‘ ’ 1\n",
       "\n",
       "Residual standard error: 0.2583 on 11 degrees of freedom\n",
       "Multiple R-squared:  0.9998,\tAdjusted R-squared:  0.9997 \n",
       "F-statistic: 1.679e+04 on 3 and 11 DF,  p-value: < 2.2e-16\n"
      ]
     },
     "metadata": {},
     "output_type": "display_data"
    }
   ],
   "source": [
    "summary(fit3)"
   ]
  },
  {
   "cell_type": "code",
   "execution_count": 55,
   "id": "4b2781cc",
   "metadata": {},
   "outputs": [
    {
     "data": {
      "image/png": "[encoded data removed]",
      "text/plain": [
       "plot without title"
      ]
     },
     "metadata": {
      "image/png": {
       "height": 420,
       "width": 420
      }
     },
     "output_type": "display_data"
    }
   ],
   "source": [
    "plot(weight ~ height, data = women)\n",
    "abline(fit)\n",
    "lines (women$height, fitted(fit2), col = 'red')\n",
    "lines (women$height, fitted(fit3), col = 'blue')"
   ]
  },
  {
   "cell_type": "code",
   "execution_count": 56,
   "id": "42b037ea",
   "metadata": {},
   "outputs": [
    {
     "data": {
      "text/html": [
       "<table class=\"dataframe\">\n",
       "<caption>A matrix: 50 × 8 of type dbl</caption>\n",
       "<thead>\n",
       "\t<tr><th></th><th scope=col>Population</th><th scope=col>Income</th><th scope=col>Illiteracy</th><th scope=col>Life Exp</th><th scope=col>Murder</th><th scope=col>HS Grad</th><th scope=col>Frost</th><th scope=col>Area</th></tr>\n",
       "</thead>\n",
       "<tbody>\n",
       "\t<tr><th scope=row>Alabama</th><td> 3615</td><td>3624</td><td>2.1</td><td>69.05</td><td>15.1</td><td>41.3</td><td> 20</td><td> 50708</td></tr>\n",
       "\t<tr><th scope=row>Alaska</th><td>  365</td><td>6315</td><td>1.5</td><td>69.31</td><td>11.3</td><td>66.7</td><td>152</td><td>566432</td></tr>\n",
       "\t<tr><th scope=row>Arizona</th><td> 2212</td><td>4530</td><td>1.8</td><td>70.55</td><td> 7.8</td><td>58.1</td><td> 15</td><td>113417</td></tr>\n",
       "\t<tr><th scope=row>Arkansas</th><td> 2110</td><td>3378</td><td>1.9</td><td>70.66</td><td>10.1</td><td>39.9</td><td> 65</td><td> 51945</td></tr>\n",
       "\t<tr><th scope=row>California</th><td>21198</td><td>5114</td><td>1.1</td><td>71.71</td><td>10.3</td><td>62.6</td><td> 20</td><td>156361</td></tr>\n",
       "\t<tr><th scope=row>Colorado</th><td> 2541</td><td>4884</td><td>0.7</td><td>72.06</td><td> 6.8</td><td>63.9</td><td>166</td><td>103766</td></tr>\n",
       "\t<tr><th scope=row>Connecticut</th><td> 3100</td><td>5348</td><td>1.1</td><td>72.48</td><td> 3.1</td><td>56.0</td><td>139</td><td>  4862</td></tr>\n",
       "\t<tr><th scope=row>Delaware</th><td>  579</td><td>4809</td><td>0.9</td><td>70.06</td><td> 6.2</td><td>54.6</td><td>103</td><td>  1982</td></tr>\n",
       "\t<tr><th scope=row>Florida</th><td> 8277</td><td>4815</td><td>1.3</td><td>70.66</td><td>10.7</td><td>52.6</td><td> 11</td><td> 54090</td></tr>\n",
       "\t<tr><th scope=row>Georgia</th><td> 4931</td><td>4091</td><td>2.0</td><td>68.54</td><td>13.9</td><td>40.6</td><td> 60</td><td> 58073</td></tr>\n",
       "\t<tr><th scope=row>Hawaii</th><td>  868</td><td>4963</td><td>1.9</td><td>73.60</td><td> 6.2</td><td>61.9</td><td>  0</td><td>  6425</td></tr>\n",
       "\t<tr><th scope=row>Idaho</th><td>  813</td><td>4119</td><td>0.6</td><td>71.87</td><td> 5.3</td><td>59.5</td><td>126</td><td> 82677</td></tr>\n",
       "\t<tr><th scope=row>Illinois</th><td>11197</td><td>5107</td><td>0.9</td><td>70.14</td><td>10.3</td><td>52.6</td><td>127</td><td> 55748</td></tr>\n",
       "\t<tr><th scope=row>Indiana</th><td> 5313</td><td>4458</td><td>0.7</td><td>70.88</td><td> 7.1</td><td>52.9</td><td>122</td><td> 36097</td></tr>\n",
       "\t<tr><th scope=row>Iowa</th><td> 2861</td><td>4628</td><td>0.5</td><td>72.56</td><td> 2.3</td><td>59.0</td><td>140</td><td> 55941</td></tr>\n",
       "\t<tr><th scope=row>Kansas</th><td> 2280</td><td>4669</td><td>0.6</td><td>72.58</td><td> 4.5</td><td>59.9</td><td>114</td><td> 81787</td></tr>\n",
       "\t<tr><th scope=row>Kentucky</th><td> 3387</td><td>3712</td><td>1.6</td><td>70.10</td><td>10.6</td><td>38.5</td><td> 95</td><td> 39650</td></tr>\n",
       "\t<tr><th scope=row>Louisiana</th><td> 3806</td><td>3545</td><td>2.8</td><td>68.76</td><td>13.2</td><td>42.2</td><td> 12</td><td> 44930</td></tr>\n",
       "\t<tr><th scope=row>Maine</th><td> 1058</td><td>3694</td><td>0.7</td><td>70.39</td><td> 2.7</td><td>54.7</td><td>161</td><td> 30920</td></tr>\n",
       "\t<tr><th scope=row>Maryland</th><td> 4122</td><td>5299</td><td>0.9</td><td>70.22</td><td> 8.5</td><td>52.3</td><td>101</td><td>  9891</td></tr>\n",
       "\t<tr><th scope=row>Massachusetts</th><td> 5814</td><td>4755</td><td>1.1</td><td>71.83</td><td> 3.3</td><td>58.5</td><td>103</td><td>  7826</td></tr>\n",
       "\t<tr><th scope=row>Michigan</th><td> 9111</td><td>4751</td><td>0.9</td><td>70.63</td><td>11.1</td><td>52.8</td><td>125</td><td> 56817</td></tr>\n",
       "\t<tr><th scope=row>Minnesota</th><td> 3921</td><td>4675</td><td>0.6</td><td>72.96</td><td> 2.3</td><td>57.6</td><td>160</td><td> 79289</td></tr>\n",
       "\t<tr><th scope=row>Mississippi</th><td> 2341</td><td>3098</td><td>2.4</td><td>68.09</td><td>12.5</td><td>41.0</td><td> 50</td><td> 47296</td></tr>\n",
       "\t<tr><th scope=row>Missouri</th><td> 4767</td><td>4254</td><td>0.8</td><td>70.69</td><td> 9.3</td><td>48.8</td><td>108</td><td> 68995</td></tr>\n",
       "\t<tr><th scope=row>Montana</th><td>  746</td><td>4347</td><td>0.6</td><td>70.56</td><td> 5.0</td><td>59.2</td><td>155</td><td>145587</td></tr>\n",
       "\t<tr><th scope=row>Nebraska</th><td> 1544</td><td>4508</td><td>0.6</td><td>72.60</td><td> 2.9</td><td>59.3</td><td>139</td><td> 76483</td></tr>\n",
       "\t<tr><th scope=row>Nevada</th><td>  590</td><td>5149</td><td>0.5</td><td>69.03</td><td>11.5</td><td>65.2</td><td>188</td><td>109889</td></tr>\n",
       "\t<tr><th scope=row>New Hampshire</th><td>  812</td><td>4281</td><td>0.7</td><td>71.23</td><td> 3.3</td><td>57.6</td><td>174</td><td>  9027</td></tr>\n",
       "\t<tr><th scope=row>New Jersey</th><td> 7333</td><td>5237</td><td>1.1</td><td>70.93</td><td> 5.2</td><td>52.5</td><td>115</td><td>  7521</td></tr>\n",
       "\t<tr><th scope=row>New Mexico</th><td> 1144</td><td>3601</td><td>2.2</td><td>70.32</td><td> 9.7</td><td>55.2</td><td>120</td><td>121412</td></tr>\n",
       "\t<tr><th scope=row>New York</th><td>18076</td><td>4903</td><td>1.4</td><td>70.55</td><td>10.9</td><td>52.7</td><td> 82</td><td> 47831</td></tr>\n",
       "\t<tr><th scope=row>North Carolina</th><td> 5441</td><td>3875</td><td>1.8</td><td>69.21</td><td>11.1</td><td>38.5</td><td> 80</td><td> 48798</td></tr>\n",
       "\t<tr><th scope=row>North Dakota</th><td>  637</td><td>5087</td><td>0.8</td><td>72.78</td><td> 1.4</td><td>50.3</td><td>186</td><td> 69273</td></tr>\n",
       "\t<tr><th scope=row>Ohio</th><td>10735</td><td>4561</td><td>0.8</td><td>70.82</td><td> 7.4</td><td>53.2</td><td>124</td><td> 40975</td></tr>\n",
       "\t<tr><th scope=row>Oklahoma</th><td> 2715</td><td>3983</td><td>1.1</td><td>71.42</td><td> 6.4</td><td>51.6</td><td> 82</td><td> 68782</td></tr>\n",
       "\t<tr><th scope=row>Oregon</th><td> 2284</td><td>4660</td><td>0.6</td><td>72.13</td><td> 4.2</td><td>60.0</td><td> 44</td><td> 96184</td></tr>\n",
       "\t<tr><th scope=row>Pennsylvania</th><td>11860</td><td>4449</td><td>1.0</td><td>70.43</td><td> 6.1</td><td>50.2</td><td>126</td><td> 44966</td></tr>\n",
       "\t<tr><th scope=row>Rhode Island</th><td>  931</td><td>4558</td><td>1.3</td><td>71.90</td><td> 2.4</td><td>46.4</td><td>127</td><td>  1049</td></tr>\n",
       "\t<tr><th scope=row>South Carolina</th><td> 2816</td><td>3635</td><td>2.3</td><td>67.96</td><td>11.6</td><td>37.8</td><td> 65</td><td> 30225</td></tr>\n",
       "\t<tr><th scope=row>South Dakota</th><td>  681</td><td>4167</td><td>0.5</td><td>72.08</td><td> 1.7</td><td>53.3</td><td>172</td><td> 75955</td></tr>\n",
       "\t<tr><th scope=row>Tennessee</th><td> 4173</td><td>3821</td><td>1.7</td><td>70.11</td><td>11.0</td><td>41.8</td><td> 70</td><td> 41328</td></tr>\n",
       "\t<tr><th scope=row>Texas</th><td>12237</td><td>4188</td><td>2.2</td><td>70.90</td><td>12.2</td><td>47.4</td><td> 35</td><td>262134</td></tr>\n",
       "\t<tr><th scope=row>Utah</th><td> 1203</td><td>4022</td><td>0.6</td><td>72.90</td><td> 4.5</td><td>67.3</td><td>137</td><td> 82096</td></tr>\n",
       "\t<tr><th scope=row>Vermont</th><td>  472</td><td>3907</td><td>0.6</td><td>71.64</td><td> 5.5</td><td>57.1</td><td>168</td><td>  9267</td></tr>\n",
       "\t<tr><th scope=row>Virginia</th><td> 4981</td><td>4701</td><td>1.4</td><td>70.08</td><td> 9.5</td><td>47.8</td><td> 85</td><td> 39780</td></tr>\n",
       "\t<tr><th scope=row>Washington</th><td> 3559</td><td>4864</td><td>0.6</td><td>71.72</td><td> 4.3</td><td>63.5</td><td> 32</td><td> 66570</td></tr>\n",
       "\t<tr><th scope=row>West Virginia</th><td> 1799</td><td>3617</td><td>1.4</td><td>69.48</td><td> 6.7</td><td>41.6</td><td>100</td><td> 24070</td></tr>\n",
       "\t<tr><th scope=row>Wisconsin</th><td> 4589</td><td>4468</td><td>0.7</td><td>72.48</td><td> 3.0</td><td>54.5</td><td>149</td><td> 54464</td></tr>\n",
       "\t<tr><th scope=row>Wyoming</th><td>  376</td><td>4566</td><td>0.6</td><td>70.29</td><td> 6.9</td><td>62.9</td><td>173</td><td> 97203</td></tr>\n",
       "</tbody>\n",
       "</table>\n"
      ],
      "text/latex": [
       "A matrix: 50 × 8 of type dbl\n",
       "\\begin{tabular}{r|llllllll}\n",
       "  & Population & Income & Illiteracy & Life Exp & Murder & HS Grad & Frost & Area\\\\\n",
       "\\hline\n",
       "\tAlabama &  3615 & 3624 & 2.1 & 69.05 & 15.1 & 41.3 &  20 &  50708\\\\\n",
       "\tAlaska &   365 & 6315 & 1.5 & 69.31 & 11.3 & 66.7 & 152 & 566432\\\\\n",
       "\tArizona &  2212 & 4530 & 1.8 & 70.55 &  7.8 & 58.1 &  15 & 113417\\\\\n",
       "\tArkansas &  2110 & 3378 & 1.9 & 70.66 & 10.1 & 39.9 &  65 &  51945\\\\\n",
       "\tCalifornia & 21198 & 5114 & 1.1 & 71.71 & 10.3 & 62.6 &  20 & 156361\\\\\n",
       "\tColorado &  2541 & 4884 & 0.7 & 72.06 &  6.8 & 63.9 & 166 & 103766\\\\\n",
       "\tConnecticut &  3100 & 5348 & 1.1 & 72.48 &  3.1 & 56.0 & 139 &   4862\\\\\n",
       "\tDelaware &   579 & 4809 & 0.9 & 70.06 &  6.2 & 54.6 & 103 &   1982\\\\\n",
       "\tFlorida &  8277 & 4815 & 1.3 & 70.66 & 10.7 & 52.6 &  11 &  54090\\\\\n",
       "\tGeorgia &  4931 & 4091 & 2.0 & 68.54 & 13.9 & 40.6 &  60 &  58073\\\\\n",
       "\tHawaii &   868 & 4963 & 1.9 & 73.60 &  6.2 & 61.9 &   0 &   6425\\\\\n",
       "\tIdaho &   813 & 4119 & 0.6 & 71.87 &  5.3 & 59.5 & 126 &  82677\\\\\n",
       "\tIllinois & 11197 & 5107 & 0.9 & 70.14 & 10.3 & 52.6 & 127 &  55748\\\\\n",
       "\tIndiana &  5313 & 4458 & 0.7 & 70.88 &  7.1 & 52.9 & 122 &  36097\\\\\n",
       "\tIowa &  2861 & 4628 & 0.5 & 72.56 &  2.3 & 59.0 & 140 &  55941\\\\\n",
       "\tKansas &  2280 & 4669 & 0.6 & 72.58 &  4.5 & 59.9 & 114 &  81787\\\\\n",
       "\tKentucky &  3387 & 3712 & 1.6 & 70.10 & 10.6 & 38.5 &  95 &  39650\\\\\n",
       "\tLouisiana &  3806 & 3545 & 2.8 & 68.76 & 13.2 & 42.2 &  12 &  44930\\\\\n",
       "\tMaine &  1058 & 3694 & 0.7 & 70.39 &  2.7 & 54.7 & 161 &  30920\\\\\n",
       "\tMaryland &  4122 & 5299 & 0.9 & 70.22 &  8.5 & 52.3 & 101 &   9891\\\\\n",
       "\tMassachusetts &  5814 & 4755 & 1.1 & 71.83 &  3.3 & 58.5 & 103 &   7826\\\\\n",
       "\tMichigan &  9111 & 4751 & 0.9 & 70.63 & 11.1 & 52.8 & 125 &  56817\\\\\n",
       "\tMinnesota &  3921 & 4675 & 0.6 & 72.96 &  2.3 & 57.6 & 160 &  79289\\\\\n",
       "\tMississippi &  2341 & 3098 & 2.4 & 68.09 & 12.5 & 41.0 &  50 &  47296\\\\\n",
       "\tMissouri &  4767 & 4254 & 0.8 & 70.69 &  9.3 & 48.8 & 108 &  68995\\\\\n",
       "\tMontana &   746 & 4347 & 0.6 & 70.56 &  5.0 & 59.2 & 155 & 145587\\\\\n",
       "\tNebraska &  1544 & 4508 & 0.6 & 72.60 &  2.9 & 59.3 & 139 &  76483\\\\\n",
       "\tNevada &   590 & 5149 & 0.5 & 69.03 & 11.5 & 65.2 & 188 & 109889\\\\\n",
       "\tNew Hampshire &   812 & 4281 & 0.7 & 71.23 &  3.3 & 57.6 & 174 &   9027\\\\\n",
       "\tNew Jersey &  7333 & 5237 & 1.1 & 70.93 &  5.2 & 52.5 & 115 &   7521\\\\\n",
       "\tNew Mexico &  1144 & 3601 & 2.2 & 70.32 &  9.7 & 55.2 & 120 & 121412\\\\\n",
       "\tNew York & 18076 & 4903 & 1.4 & 70.55 & 10.9 & 52.7 &  82 &  47831\\\\\n",
       "\tNorth Carolina &  5441 & 3875 & 1.8 & 69.21 & 11.1 & 38.5 &  80 &  48798\\\\\n",
       "\tNorth Dakota &   637 & 5087 & 0.8 & 72.78 &  1.4 & 50.3 & 186 &  69273\\\\\n",
       "\tOhio & 10735 & 4561 & 0.8 & 70.82 &  7.4 & 53.2 & 124 &  40975\\\\\n",
       "\tOklahoma &  2715 & 3983 & 1.1 & 71.42 &  6.4 & 51.6 &  82 &  68782\\\\\n",
       "\tOregon &  2284 & 4660 & 0.6 & 72.13 &  4.2 & 60.0 &  44 &  96184\\\\\n",
       "\tPennsylvania & 11860 & 4449 & 1.0 & 70.43 &  6.1 & 50.2 & 126 &  44966\\\\\n",
       "\tRhode Island &   931 & 4558 & 1.3 & 71.90 &  2.4 & 46.4 & 127 &   1049\\\\\n",
       "\tSouth Carolina &  2816 & 3635 & 2.3 & 67.96 & 11.6 & 37.8 &  65 &  30225\\\\\n",
       "\tSouth Dakota &   681 & 4167 & 0.5 & 72.08 &  1.7 & 53.3 & 172 &  75955\\\\\n",
       "\tTennessee &  4173 & 3821 & 1.7 & 70.11 & 11.0 & 41.8 &  70 &  41328\\\\\n",
       "\tTexas & 12237 & 4188 & 2.2 & 70.90 & 12.2 & 47.4 &  35 & 262134\\\\\n",
       "\tUtah &  1203 & 4022 & 0.6 & 72.90 &  4.5 & 67.3 & 137 &  82096\\\\\n",
       "\tVermont &   472 & 3907 & 0.6 & 71.64 &  5.5 & 57.1 & 168 &   9267\\\\\n",
       "\tVirginia &  4981 & 4701 & 1.4 & 70.08 &  9.5 & 47.8 &  85 &  39780\\\\\n",
       "\tWashington &  3559 & 4864 & 0.6 & 71.72 &  4.3 & 63.5 &  32 &  66570\\\\\n",
       "\tWest Virginia &  1799 & 3617 & 1.4 & 69.48 &  6.7 & 41.6 & 100 &  24070\\\\\n",
       "\tWisconsin &  4589 & 4468 & 0.7 & 72.48 &  3.0 & 54.5 & 149 &  54464\\\\\n",
       "\tWyoming &   376 & 4566 & 0.6 & 70.29 &  6.9 & 62.9 & 173 &  97203\\\\\n",
       "\\end{tabular}\n"
      ],
      "text/markdown": [
       "\n",
       "A matrix: 50 × 8 of type dbl\n",
       "\n",
       "| <!--/--> | Population | Income | Illiteracy | Life Exp | Murder | HS Grad | Frost | Area |\n",
       "|---|---|---|---|---|---|---|---|---|\n",
       "| Alabama |  3615 | 3624 | 2.1 | 69.05 | 15.1 | 41.3 |  20 |  50708 |\n",
       "| Alaska |   365 | 6315 | 1.5 | 69.31 | 11.3 | 66.7 | 152 | 566432 |\n",
       "| Arizona |  2212 | 4530 | 1.8 | 70.55 |  7.8 | 58.1 |  15 | 113417 |\n",
       "| Arkansas |  2110 | 3378 | 1.9 | 70.66 | 10.1 | 39.9 |  65 |  51945 |\n",
       "| California | 21198 | 5114 | 1.1 | 71.71 | 10.3 | 62.6 |  20 | 156361 |\n",
       "| Colorado |  2541 | 4884 | 0.7 | 72.06 |  6.8 | 63.9 | 166 | 103766 |\n",
       "| Connecticut |  3100 | 5348 | 1.1 | 72.48 |  3.1 | 56.0 | 139 |   4862 |\n",
       "| Delaware |   579 | 4809 | 0.9 | 70.06 |  6.2 | 54.6 | 103 |   1982 |\n",
       "| Florida |  8277 | 4815 | 1.3 | 70.66 | 10.7 | 52.6 |  11 |  54090 |\n",
       "| Georgia |  4931 | 4091 | 2.0 | 68.54 | 13.9 | 40.6 |  60 |  58073 |\n",
       "| Hawaii |   868 | 4963 | 1.9 | 73.60 |  6.2 | 61.9 |   0 |   6425 |\n",
       "| Idaho |   813 | 4119 | 0.6 | 71.87 |  5.3 | 59.5 | 126 |  82677 |\n",
       "| Illinois | 11197 | 5107 | 0.9 | 70.14 | 10.3 | 52.6 | 127 |  55748 |\n",
       "| Indiana |  5313 | 4458 | 0.7 | 70.88 |  7.1 | 52.9 | 122 |  36097 |\n",
       "| Iowa |  2861 | 4628 | 0.5 | 72.56 |  2.3 | 59.0 | 140 |  55941 |\n",
       "| Kansas |  2280 | 4669 | 0.6 | 72.58 |  4.5 | 59.9 | 114 |  81787 |\n",
       "| Kentucky |  3387 | 3712 | 1.6 | 70.10 | 10.6 | 38.5 |  95 |  39650 |\n",
       "| Louisiana |  3806 | 3545 | 2.8 | 68.76 | 13.2 | 42.2 |  12 |  44930 |\n",
       "| Maine |  1058 | 3694 | 0.7 | 70.39 |  2.7 | 54.7 | 161 |  30920 |\n",
       "| Maryland |  4122 | 5299 | 0.9 | 70.22 |  8.5 | 52.3 | 101 |   9891 |\n",
       "| Massachusetts |  5814 | 4755 | 1.1 | 71.83 |  3.3 | 58.5 | 103 |   7826 |\n",
       "| Michigan |  9111 | 4751 | 0.9 | 70.63 | 11.1 | 52.8 | 125 |  56817 |\n",
       "| Minnesota |  3921 | 4675 | 0.6 | 72.96 |  2.3 | 57.6 | 160 |  79289 |\n",
       "| Mississippi |  2341 | 3098 | 2.4 | 68.09 | 12.5 | 41.0 |  50 |  47296 |\n",
       "| Missouri |  4767 | 4254 | 0.8 | 70.69 |  9.3 | 48.8 | 108 |  68995 |\n",
       "| Montana |   746 | 4347 | 0.6 | 70.56 |  5.0 | 59.2 | 155 | 145587 |\n",
       "| Nebraska |  1544 | 4508 | 0.6 | 72.60 |  2.9 | 59.3 | 139 |  76483 |\n",
       "| Nevada |   590 | 5149 | 0.5 | 69.03 | 11.5 | 65.2 | 188 | 109889 |\n",
       "| New Hampshire |   812 | 4281 | 0.7 | 71.23 |  3.3 | 57.6 | 174 |   9027 |\n",
       "| New Jersey |  7333 | 5237 | 1.1 | 70.93 |  5.2 | 52.5 | 115 |   7521 |\n",
       "| New Mexico |  1144 | 3601 | 2.2 | 70.32 |  9.7 | 55.2 | 120 | 121412 |\n",
       "| New York | 18076 | 4903 | 1.4 | 70.55 | 10.9 | 52.7 |  82 |  47831 |\n",
       "| North Carolina |  5441 | 3875 | 1.8 | 69.21 | 11.1 | 38.5 |  80 |  48798 |\n",
       "| North Dakota |   637 | 5087 | 0.8 | 72.78 |  1.4 | 50.3 | 186 |  69273 |\n",
       "| Ohio | 10735 | 4561 | 0.8 | 70.82 |  7.4 | 53.2 | 124 |  40975 |\n",
       "| Oklahoma |  2715 | 3983 | 1.1 | 71.42 |  6.4 | 51.6 |  82 |  68782 |\n",
       "| Oregon |  2284 | 4660 | 0.6 | 72.13 |  4.2 | 60.0 |  44 |  96184 |\n",
       "| Pennsylvania | 11860 | 4449 | 1.0 | 70.43 |  6.1 | 50.2 | 126 |  44966 |\n",
       "| Rhode Island |   931 | 4558 | 1.3 | 71.90 |  2.4 | 46.4 | 127 |   1049 |\n",
       "| South Carolina |  2816 | 3635 | 2.3 | 67.96 | 11.6 | 37.8 |  65 |  30225 |\n",
       "| South Dakota |   681 | 4167 | 0.5 | 72.08 |  1.7 | 53.3 | 172 |  75955 |\n",
       "| Tennessee |  4173 | 3821 | 1.7 | 70.11 | 11.0 | 41.8 |  70 |  41328 |\n",
       "| Texas | 12237 | 4188 | 2.2 | 70.90 | 12.2 | 47.4 |  35 | 262134 |\n",
       "| Utah |  1203 | 4022 | 0.6 | 72.90 |  4.5 | 67.3 | 137 |  82096 |\n",
       "| Vermont |   472 | 3907 | 0.6 | 71.64 |  5.5 | 57.1 | 168 |   9267 |\n",
       "| Virginia |  4981 | 4701 | 1.4 | 70.08 |  9.5 | 47.8 |  85 |  39780 |\n",
       "| Washington |  3559 | 4864 | 0.6 | 71.72 |  4.3 | 63.5 |  32 |  66570 |\n",
       "| West Virginia |  1799 | 3617 | 1.4 | 69.48 |  6.7 | 41.6 | 100 |  24070 |\n",
       "| Wisconsin |  4589 | 4468 | 0.7 | 72.48 |  3.0 | 54.5 | 149 |  54464 |\n",
       "| Wyoming |   376 | 4566 | 0.6 | 70.29 |  6.9 | 62.9 | 173 |  97203 |\n",
       "\n"
      ],
      "text/plain": [
       "               Population Income Illiteracy Life Exp Murder HS Grad Frost\n",
       "Alabama         3615      3624   2.1        69.05    15.1   41.3     20  \n",
       "Alaska           365      6315   1.5        69.31    11.3   66.7    152  \n",
       "Arizona         2212      4530   1.8        70.55     7.8   58.1     15  \n",
       "Arkansas        2110      3378   1.9        70.66    10.1   39.9     65  \n",
       "California     21198      5114   1.1        71.71    10.3   62.6     20  \n",
       "Colorado        2541      4884   0.7        72.06     6.8   63.9    166  \n",
       "Connecticut     3100      5348   1.1        72.48     3.1   56.0    139  \n",
       "Delaware         579      4809   0.9        70.06     6.2   54.6    103  \n",
       "Florida         8277      4815   1.3        70.66    10.7   52.6     11  \n",
       "Georgia         4931      4091   2.0        68.54    13.9   40.6     60  \n",
       "Hawaii           868      4963   1.9        73.60     6.2   61.9      0  \n",
       "Idaho            813      4119   0.6        71.87     5.3   59.5    126  \n",
       "Illinois       11197      5107   0.9        70.14    10.3   52.6    127  \n",
       "Indiana         5313      4458   0.7        70.88     7.1   52.9    122  \n",
       "Iowa            2861      4628   0.5        72.56     2.3   59.0    140  \n",
       "Kansas          2280      4669   0.6        72.58     4.5   59.9    114  \n",
       "Kentucky        3387      3712   1.6        70.10    10.6   38.5     95  \n",
       "Louisiana       3806      3545   2.8        68.76    13.2   42.2     12  \n",
       "Maine           1058      3694   0.7        70.39     2.7   54.7    161  \n",
       "Maryland        4122      5299   0.9        70.22     8.5   52.3    101  \n",
       "Massachusetts   5814      4755   1.1        71.83     3.3   58.5    103  \n",
       "Michigan        9111      4751   0.9        70.63    11.1   52.8    125  \n",
       "Minnesota       3921      4675   0.6        72.96     2.3   57.6    160  \n",
       "Mississippi     2341      3098   2.4        68.09    12.5   41.0     50  \n",
       "Missouri        4767      4254   0.8        70.69     9.3   48.8    108  \n",
       "Montana          746      4347   0.6        70.56     5.0   59.2    155  \n",
       "Nebraska        1544      4508   0.6        72.60     2.9   59.3    139  \n",
       "Nevada           590      5149   0.5        69.03    11.5   65.2    188  \n",
       "New Hampshire    812      4281   0.7        71.23     3.3   57.6    174  \n",
       "New Jersey      7333      5237   1.1        70.93     5.2   52.5    115  \n",
       "New Mexico      1144      3601   2.2        70.32     9.7   55.2    120  \n",
       "New York       18076      4903   1.4        70.55    10.9   52.7     82  \n",
       "North Carolina  5441      3875   1.8        69.21    11.1   38.5     80  \n",
       "North Dakota     637      5087   0.8        72.78     1.4   50.3    186  \n",
       "Ohio           10735      4561   0.8        70.82     7.4   53.2    124  \n",
       "Oklahoma        2715      3983   1.1        71.42     6.4   51.6     82  \n",
       "Oregon          2284      4660   0.6        72.13     4.2   60.0     44  \n",
       "Pennsylvania   11860      4449   1.0        70.43     6.1   50.2    126  \n",
       "Rhode Island     931      4558   1.3        71.90     2.4   46.4    127  \n",
       "South Carolina  2816      3635   2.3        67.96    11.6   37.8     65  \n",
       "South Dakota     681      4167   0.5        72.08     1.7   53.3    172  \n",
       "Tennessee       4173      3821   1.7        70.11    11.0   41.8     70  \n",
       "Texas          12237      4188   2.2        70.90    12.2   47.4     35  \n",
       "Utah            1203      4022   0.6        72.90     4.5   67.3    137  \n",
       "Vermont          472      3907   0.6        71.64     5.5   57.1    168  \n",
       "Virginia        4981      4701   1.4        70.08     9.5   47.8     85  \n",
       "Washington      3559      4864   0.6        71.72     4.3   63.5     32  \n",
       "West Virginia   1799      3617   1.4        69.48     6.7   41.6    100  \n",
       "Wisconsin       4589      4468   0.7        72.48     3.0   54.5    149  \n",
       "Wyoming          376      4566   0.6        70.29     6.9   62.9    173  \n",
       "               Area  \n",
       "Alabama         50708\n",
       "Alaska         566432\n",
       "Arizona        113417\n",
       "Arkansas        51945\n",
       "California     156361\n",
       "Colorado       103766\n",
       "Connecticut      4862\n",
       "Delaware         1982\n",
       "Florida         54090\n",
       "Georgia         58073\n",
       "Hawaii           6425\n",
       "Idaho           82677\n",
       "Illinois        55748\n",
       "Indiana         36097\n",
       "Iowa            55941\n",
       "Kansas          81787\n",
       "Kentucky        39650\n",
       "Louisiana       44930\n",
       "Maine           30920\n",
       "Maryland         9891\n",
       "Massachusetts    7826\n",
       "Michigan        56817\n",
       "Minnesota       79289\n",
       "Mississippi     47296\n",
       "Missouri        68995\n",
       "Montana        145587\n",
       "Nebraska        76483\n",
       "Nevada         109889\n",
       "New Hampshire    9027\n",
       "New Jersey       7521\n",
       "New Mexico     121412\n",
       "New York        47831\n",
       "North Carolina  48798\n",
       "North Dakota    69273\n",
       "Ohio            40975\n",
       "Oklahoma        68782\n",
       "Oregon          96184\n",
       "Pennsylvania    44966\n",
       "Rhode Island     1049\n",
       "South Carolina  30225\n",
       "South Dakota    75955\n",
       "Tennessee       41328\n",
       "Texas          262134\n",
       "Utah            82096\n",
       "Vermont          9267\n",
       "Virginia        39780\n",
       "Washington      66570\n",
       "West Virginia   24070\n",
       "Wisconsin       54464\n",
       "Wyoming         97203"
      ]
     },
     "metadata": {},
     "output_type": "display_data"
    }
   ],
   "source": [
    "state.x77"
   ]
  },
  {
   "cell_type": "code",
   "execution_count": 58,
   "id": "86e39b60",
   "metadata": {},
   "outputs": [],
   "source": [
    "states <- as.data.frame(state.x77[,c('Murder', 'Population', 'Illiteracy', 'Income', 'Frost')])"
   ]
  },
  {
   "cell_type": "code",
   "execution_count": 59,
   "id": "e0bcb400",
   "metadata": {},
   "outputs": [
    {
     "data": {
      "text/html": [
       "<table class=\"dataframe\">\n",
       "<caption>A data.frame: 50 × 5</caption>\n",
       "<thead>\n",
       "\t<tr><th></th><th scope=col>Murder</th><th scope=col>Population</th><th scope=col>Illiteracy</th><th scope=col>Income</th><th scope=col>Frost</th></tr>\n",
       "\t<tr><th></th><th scope=col>&lt;dbl&gt;</th><th scope=col>&lt;dbl&gt;</th><th scope=col>&lt;dbl&gt;</th><th scope=col>&lt;dbl&gt;</th><th scope=col>&lt;dbl&gt;</th></tr>\n",
       "</thead>\n",
       "<tbody>\n",
       "\t<tr><th scope=row>Alabama</th><td>15.1</td><td> 3615</td><td>2.1</td><td>3624</td><td> 20</td></tr>\n",
       "\t<tr><th scope=row>Alaska</th><td>11.3</td><td>  365</td><td>1.5</td><td>6315</td><td>152</td></tr>\n",
       "\t<tr><th scope=row>Arizona</th><td> 7.8</td><td> 2212</td><td>1.8</td><td>4530</td><td> 15</td></tr>\n",
       "\t<tr><th scope=row>Arkansas</th><td>10.1</td><td> 2110</td><td>1.9</td><td>3378</td><td> 65</td></tr>\n",
       "\t<tr><th scope=row>California</th><td>10.3</td><td>21198</td><td>1.1</td><td>5114</td><td> 20</td></tr>\n",
       "\t<tr><th scope=row>Colorado</th><td> 6.8</td><td> 2541</td><td>0.7</td><td>4884</td><td>166</td></tr>\n",
       "\t<tr><th scope=row>Connecticut</th><td> 3.1</td><td> 3100</td><td>1.1</td><td>5348</td><td>139</td></tr>\n",
       "\t<tr><th scope=row>Delaware</th><td> 6.2</td><td>  579</td><td>0.9</td><td>4809</td><td>103</td></tr>\n",
       "\t<tr><th scope=row>Florida</th><td>10.7</td><td> 8277</td><td>1.3</td><td>4815</td><td> 11</td></tr>\n",
       "\t<tr><th scope=row>Georgia</th><td>13.9</td><td> 4931</td><td>2.0</td><td>4091</td><td> 60</td></tr>\n",
       "\t<tr><th scope=row>Hawaii</th><td> 6.2</td><td>  868</td><td>1.9</td><td>4963</td><td>  0</td></tr>\n",
       "\t<tr><th scope=row>Idaho</th><td> 5.3</td><td>  813</td><td>0.6</td><td>4119</td><td>126</td></tr>\n",
       "\t<tr><th scope=row>Illinois</th><td>10.3</td><td>11197</td><td>0.9</td><td>5107</td><td>127</td></tr>\n",
       "\t<tr><th scope=row>Indiana</th><td> 7.1</td><td> 5313</td><td>0.7</td><td>4458</td><td>122</td></tr>\n",
       "\t<tr><th scope=row>Iowa</th><td> 2.3</td><td> 2861</td><td>0.5</td><td>4628</td><td>140</td></tr>\n",
       "\t<tr><th scope=row>Kansas</th><td> 4.5</td><td> 2280</td><td>0.6</td><td>4669</td><td>114</td></tr>\n",
       "\t<tr><th scope=row>Kentucky</th><td>10.6</td><td> 3387</td><td>1.6</td><td>3712</td><td> 95</td></tr>\n",
       "\t<tr><th scope=row>Louisiana</th><td>13.2</td><td> 3806</td><td>2.8</td><td>3545</td><td> 12</td></tr>\n",
       "\t<tr><th scope=row>Maine</th><td> 2.7</td><td> 1058</td><td>0.7</td><td>3694</td><td>161</td></tr>\n",
       "\t<tr><th scope=row>Maryland</th><td> 8.5</td><td> 4122</td><td>0.9</td><td>5299</td><td>101</td></tr>\n",
       "\t<tr><th scope=row>Massachusetts</th><td> 3.3</td><td> 5814</td><td>1.1</td><td>4755</td><td>103</td></tr>\n",
       "\t<tr><th scope=row>Michigan</th><td>11.1</td><td> 9111</td><td>0.9</td><td>4751</td><td>125</td></tr>\n",
       "\t<tr><th scope=row>Minnesota</th><td> 2.3</td><td> 3921</td><td>0.6</td><td>4675</td><td>160</td></tr>\n",
       "\t<tr><th scope=row>Mississippi</th><td>12.5</td><td> 2341</td><td>2.4</td><td>3098</td><td> 50</td></tr>\n",
       "\t<tr><th scope=row>Missouri</th><td> 9.3</td><td> 4767</td><td>0.8</td><td>4254</td><td>108</td></tr>\n",
       "\t<tr><th scope=row>Montana</th><td> 5.0</td><td>  746</td><td>0.6</td><td>4347</td><td>155</td></tr>\n",
       "\t<tr><th scope=row>Nebraska</th><td> 2.9</td><td> 1544</td><td>0.6</td><td>4508</td><td>139</td></tr>\n",
       "\t<tr><th scope=row>Nevada</th><td>11.5</td><td>  590</td><td>0.5</td><td>5149</td><td>188</td></tr>\n",
       "\t<tr><th scope=row>New Hampshire</th><td> 3.3</td><td>  812</td><td>0.7</td><td>4281</td><td>174</td></tr>\n",
       "\t<tr><th scope=row>New Jersey</th><td> 5.2</td><td> 7333</td><td>1.1</td><td>5237</td><td>115</td></tr>\n",
       "\t<tr><th scope=row>New Mexico</th><td> 9.7</td><td> 1144</td><td>2.2</td><td>3601</td><td>120</td></tr>\n",
       "\t<tr><th scope=row>New York</th><td>10.9</td><td>18076</td><td>1.4</td><td>4903</td><td> 82</td></tr>\n",
       "\t<tr><th scope=row>North Carolina</th><td>11.1</td><td> 5441</td><td>1.8</td><td>3875</td><td> 80</td></tr>\n",
       "\t<tr><th scope=row>North Dakota</th><td> 1.4</td><td>  637</td><td>0.8</td><td>5087</td><td>186</td></tr>\n",
       "\t<tr><th scope=row>Ohio</th><td> 7.4</td><td>10735</td><td>0.8</td><td>4561</td><td>124</td></tr>\n",
       "\t<tr><th scope=row>Oklahoma</th><td> 6.4</td><td> 2715</td><td>1.1</td><td>3983</td><td> 82</td></tr>\n",
       "\t<tr><th scope=row>Oregon</th><td> 4.2</td><td> 2284</td><td>0.6</td><td>4660</td><td> 44</td></tr>\n",
       "\t<tr><th scope=row>Pennsylvania</th><td> 6.1</td><td>11860</td><td>1.0</td><td>4449</td><td>126</td></tr>\n",
       "\t<tr><th scope=row>Rhode Island</th><td> 2.4</td><td>  931</td><td>1.3</td><td>4558</td><td>127</td></tr>\n",
       "\t<tr><th scope=row>South Carolina</th><td>11.6</td><td> 2816</td><td>2.3</td><td>3635</td><td> 65</td></tr>\n",
       "\t<tr><th scope=row>South Dakota</th><td> 1.7</td><td>  681</td><td>0.5</td><td>4167</td><td>172</td></tr>\n",
       "\t<tr><th scope=row>Tennessee</th><td>11.0</td><td> 4173</td><td>1.7</td><td>3821</td><td> 70</td></tr>\n",
       "\t<tr><th scope=row>Texas</th><td>12.2</td><td>12237</td><td>2.2</td><td>4188</td><td> 35</td></tr>\n",
       "\t<tr><th scope=row>Utah</th><td> 4.5</td><td> 1203</td><td>0.6</td><td>4022</td><td>137</td></tr>\n",
       "\t<tr><th scope=row>Vermont</th><td> 5.5</td><td>  472</td><td>0.6</td><td>3907</td><td>168</td></tr>\n",
       "\t<tr><th scope=row>Virginia</th><td> 9.5</td><td> 4981</td><td>1.4</td><td>4701</td><td> 85</td></tr>\n",
       "\t<tr><th scope=row>Washington</th><td> 4.3</td><td> 3559</td><td>0.6</td><td>4864</td><td> 32</td></tr>\n",
       "\t<tr><th scope=row>West Virginia</th><td> 6.7</td><td> 1799</td><td>1.4</td><td>3617</td><td>100</td></tr>\n",
       "\t<tr><th scope=row>Wisconsin</th><td> 3.0</td><td> 4589</td><td>0.7</td><td>4468</td><td>149</td></tr>\n",
       "\t<tr><th scope=row>Wyoming</th><td> 6.9</td><td>  376</td><td>0.6</td><td>4566</td><td>173</td></tr>\n",
       "</tbody>\n",
       "</table>\n"
      ],
      "text/latex": [
       "A data.frame: 50 × 5\n",
       "\\begin{tabular}{r|lllll}\n",
       "  & Murder & Population & Illiteracy & Income & Frost\\\\\n",
       "  & <dbl> & <dbl> & <dbl> & <dbl> & <dbl>\\\\\n",
       "\\hline\n",
       "\tAlabama & 15.1 &  3615 & 2.1 & 3624 &  20\\\\\n",
       "\tAlaska & 11.3 &   365 & 1.5 & 6315 & 152\\\\\n",
       "\tArizona &  7.8 &  2212 & 1.8 & 4530 &  15\\\\\n",
       "\tArkansas & 10.1 &  2110 & 1.9 & 3378 &  65\\\\\n",
       "\tCalifornia & 10.3 & 21198 & 1.1 & 5114 &  20\\\\\n",
       "\tColorado &  6.8 &  2541 & 0.7 & 4884 & 166\\\\\n",
       "\tConnecticut &  3.1 &  3100 & 1.1 & 5348 & 139\\\\\n",
       "\tDelaware &  6.2 &   579 & 0.9 & 4809 & 103\\\\\n",
       "\tFlorida & 10.7 &  8277 & 1.3 & 4815 &  11\\\\\n",
       "\tGeorgia & 13.9 &  4931 & 2.0 & 4091 &  60\\\\\n",
       "\tHawaii &  6.2 &   868 & 1.9 & 4963 &   0\\\\\n",
       "\tIdaho &  5.3 &   813 & 0.6 & 4119 & 126\\\\\n",
       "\tIllinois & 10.3 & 11197 & 0.9 & 5107 & 127\\\\\n",
       "\tIndiana &  7.1 &  5313 & 0.7 & 4458 & 122\\\\\n",
       "\tIowa &  2.3 &  2861 & 0.5 & 4628 & 140\\\\\n",
       "\tKansas &  4.5 &  2280 & 0.6 & 4669 & 114\\\\\n",
       "\tKentucky & 10.6 &  3387 & 1.6 & 3712 &  95\\\\\n",
       "\tLouisiana & 13.2 &  3806 & 2.8 & 3545 &  12\\\\\n",
       "\tMaine &  2.7 &  1058 & 0.7 & 3694 & 161\\\\\n",
       "\tMaryland &  8.5 &  4122 & 0.9 & 5299 & 101\\\\\n",
       "\tMassachusetts &  3.3 &  5814 & 1.1 & 4755 & 103\\\\\n",
       "\tMichigan & 11.1 &  9111 & 0.9 & 4751 & 125\\\\\n",
       "\tMinnesota &  2.3 &  3921 & 0.6 & 4675 & 160\\\\\n",
       "\tMississippi & 12.5 &  2341 & 2.4 & 3098 &  50\\\\\n",
       "\tMissouri &  9.3 &  4767 & 0.8 & 4254 & 108\\\\\n",
       "\tMontana &  5.0 &   746 & 0.6 & 4347 & 155\\\\\n",
       "\tNebraska &  2.9 &  1544 & 0.6 & 4508 & 139\\\\\n",
       "\tNevada & 11.5 &   590 & 0.5 & 5149 & 188\\\\\n",
       "\tNew Hampshire &  3.3 &   812 & 0.7 & 4281 & 174\\\\\n",
       "\tNew Jersey &  5.2 &  7333 & 1.1 & 5237 & 115\\\\\n",
       "\tNew Mexico &  9.7 &  1144 & 2.2 & 3601 & 120\\\\\n",
       "\tNew York & 10.9 & 18076 & 1.4 & 4903 &  82\\\\\n",
       "\tNorth Carolina & 11.1 &  5441 & 1.8 & 3875 &  80\\\\\n",
       "\tNorth Dakota &  1.4 &   637 & 0.8 & 5087 & 186\\\\\n",
       "\tOhio &  7.4 & 10735 & 0.8 & 4561 & 124\\\\\n",
       "\tOklahoma &  6.4 &  2715 & 1.1 & 3983 &  82\\\\\n",
       "\tOregon &  4.2 &  2284 & 0.6 & 4660 &  44\\\\\n",
       "\tPennsylvania &  6.1 & 11860 & 1.0 & 4449 & 126\\\\\n",
       "\tRhode Island &  2.4 &   931 & 1.3 & 4558 & 127\\\\\n",
       "\tSouth Carolina & 11.6 &  2816 & 2.3 & 3635 &  65\\\\\n",
       "\tSouth Dakota &  1.7 &   681 & 0.5 & 4167 & 172\\\\\n",
       "\tTennessee & 11.0 &  4173 & 1.7 & 3821 &  70\\\\\n",
       "\tTexas & 12.2 & 12237 & 2.2 & 4188 &  35\\\\\n",
       "\tUtah &  4.5 &  1203 & 0.6 & 4022 & 137\\\\\n",
       "\tVermont &  5.5 &   472 & 0.6 & 3907 & 168\\\\\n",
       "\tVirginia &  9.5 &  4981 & 1.4 & 4701 &  85\\\\\n",
       "\tWashington &  4.3 &  3559 & 0.6 & 4864 &  32\\\\\n",
       "\tWest Virginia &  6.7 &  1799 & 1.4 & 3617 & 100\\\\\n",
       "\tWisconsin &  3.0 &  4589 & 0.7 & 4468 & 149\\\\\n",
       "\tWyoming &  6.9 &   376 & 0.6 & 4566 & 173\\\\\n",
       "\\end{tabular}\n"
      ],
      "text/markdown": [
       "\n",
       "A data.frame: 50 × 5\n",
       "\n",
       "| <!--/--> | Murder &lt;dbl&gt; | Population &lt;dbl&gt; | Illiteracy &lt;dbl&gt; | Income &lt;dbl&gt; | Frost &lt;dbl&gt; |\n",
       "|---|---|---|---|---|---|\n",
       "| Alabama | 15.1 |  3615 | 2.1 | 3624 |  20 |\n",
       "| Alaska | 11.3 |   365 | 1.5 | 6315 | 152 |\n",
       "| Arizona |  7.8 |  2212 | 1.8 | 4530 |  15 |\n",
       "| Arkansas | 10.1 |  2110 | 1.9 | 3378 |  65 |\n",
       "| California | 10.3 | 21198 | 1.1 | 5114 |  20 |\n",
       "| Colorado |  6.8 |  2541 | 0.7 | 4884 | 166 |\n",
       "| Connecticut |  3.1 |  3100 | 1.1 | 5348 | 139 |\n",
       "| Delaware |  6.2 |   579 | 0.9 | 4809 | 103 |\n",
       "| Florida | 10.7 |  8277 | 1.3 | 4815 |  11 |\n",
       "| Georgia | 13.9 |  4931 | 2.0 | 4091 |  60 |\n",
       "| Hawaii |  6.2 |   868 | 1.9 | 4963 |   0 |\n",
       "| Idaho |  5.3 |   813 | 0.6 | 4119 | 126 |\n",
       "| Illinois | 10.3 | 11197 | 0.9 | 5107 | 127 |\n",
       "| Indiana |  7.1 |  5313 | 0.7 | 4458 | 122 |\n",
       "| Iowa |  2.3 |  2861 | 0.5 | 4628 | 140 |\n",
       "| Kansas |  4.5 |  2280 | 0.6 | 4669 | 114 |\n",
       "| Kentucky | 10.6 |  3387 | 1.6 | 3712 |  95 |\n",
       "| Louisiana | 13.2 |  3806 | 2.8 | 3545 |  12 |\n",
       "| Maine |  2.7 |  1058 | 0.7 | 3694 | 161 |\n",
       "| Maryland |  8.5 |  4122 | 0.9 | 5299 | 101 |\n",
       "| Massachusetts |  3.3 |  5814 | 1.1 | 4755 | 103 |\n",
       "| Michigan | 11.1 |  9111 | 0.9 | 4751 | 125 |\n",
       "| Minnesota |  2.3 |  3921 | 0.6 | 4675 | 160 |\n",
       "| Mississippi | 12.5 |  2341 | 2.4 | 3098 |  50 |\n",
       "| Missouri |  9.3 |  4767 | 0.8 | 4254 | 108 |\n",
       "| Montana |  5.0 |   746 | 0.6 | 4347 | 155 |\n",
       "| Nebraska |  2.9 |  1544 | 0.6 | 4508 | 139 |\n",
       "| Nevada | 11.5 |   590 | 0.5 | 5149 | 188 |\n",
       "| New Hampshire |  3.3 |   812 | 0.7 | 4281 | 174 |\n",
       "| New Jersey |  5.2 |  7333 | 1.1 | 5237 | 115 |\n",
       "| New Mexico |  9.7 |  1144 | 2.2 | 3601 | 120 |\n",
       "| New York | 10.9 | 18076 | 1.4 | 4903 |  82 |\n",
       "| North Carolina | 11.1 |  5441 | 1.8 | 3875 |  80 |\n",
       "| North Dakota |  1.4 |   637 | 0.8 | 5087 | 186 |\n",
       "| Ohio |  7.4 | 10735 | 0.8 | 4561 | 124 |\n",
       "| Oklahoma |  6.4 |  2715 | 1.1 | 3983 |  82 |\n",
       "| Oregon |  4.2 |  2284 | 0.6 | 4660 |  44 |\n",
       "| Pennsylvania |  6.1 | 11860 | 1.0 | 4449 | 126 |\n",
       "| Rhode Island |  2.4 |   931 | 1.3 | 4558 | 127 |\n",
       "| South Carolina | 11.6 |  2816 | 2.3 | 3635 |  65 |\n",
       "| South Dakota |  1.7 |   681 | 0.5 | 4167 | 172 |\n",
       "| Tennessee | 11.0 |  4173 | 1.7 | 3821 |  70 |\n",
       "| Texas | 12.2 | 12237 | 2.2 | 4188 |  35 |\n",
       "| Utah |  4.5 |  1203 | 0.6 | 4022 | 137 |\n",
       "| Vermont |  5.5 |   472 | 0.6 | 3907 | 168 |\n",
       "| Virginia |  9.5 |  4981 | 1.4 | 4701 |  85 |\n",
       "| Washington |  4.3 |  3559 | 0.6 | 4864 |  32 |\n",
       "| West Virginia |  6.7 |  1799 | 1.4 | 3617 | 100 |\n",
       "| Wisconsin |  3.0 |  4589 | 0.7 | 4468 | 149 |\n",
       "| Wyoming |  6.9 |   376 | 0.6 | 4566 | 173 |\n",
       "\n"
      ],
      "text/plain": [
       "               Murder Population Illiteracy Income Frost\n",
       "Alabama        15.1    3615      2.1        3624    20  \n",
       "Alaska         11.3     365      1.5        6315   152  \n",
       "Arizona         7.8    2212      1.8        4530    15  \n",
       "Arkansas       10.1    2110      1.9        3378    65  \n",
       "California     10.3   21198      1.1        5114    20  \n",
       "Colorado        6.8    2541      0.7        4884   166  \n",
       "Connecticut     3.1    3100      1.1        5348   139  \n",
       "Delaware        6.2     579      0.9        4809   103  \n",
       "Florida        10.7    8277      1.3        4815    11  \n",
       "Georgia        13.9    4931      2.0        4091    60  \n",
       "Hawaii          6.2     868      1.9        4963     0  \n",
       "Idaho           5.3     813      0.6        4119   126  \n",
       "Illinois       10.3   11197      0.9        5107   127  \n",
       "Indiana         7.1    5313      0.7        4458   122  \n",
       "Iowa            2.3    2861      0.5        4628   140  \n",
       "Kansas          4.5    2280      0.6        4669   114  \n",
       "Kentucky       10.6    3387      1.6        3712    95  \n",
       "Louisiana      13.2    3806      2.8        3545    12  \n",
       "Maine           2.7    1058      0.7        3694   161  \n",
       "Maryland        8.5    4122      0.9        5299   101  \n",
       "Massachusetts   3.3    5814      1.1        4755   103  \n",
       "Michigan       11.1    9111      0.9        4751   125  \n",
       "Minnesota       2.3    3921      0.6        4675   160  \n",
       "Mississippi    12.5    2341      2.4        3098    50  \n",
       "Missouri        9.3    4767      0.8        4254   108  \n",
       "Montana         5.0     746      0.6        4347   155  \n",
       "Nebraska        2.9    1544      0.6        4508   139  \n",
       "Nevada         11.5     590      0.5        5149   188  \n",
       "New Hampshire   3.3     812      0.7        4281   174  \n",
       "New Jersey      5.2    7333      1.1        5237   115  \n",
       "New Mexico      9.7    1144      2.2        3601   120  \n",
       "New York       10.9   18076      1.4        4903    82  \n",
       "North Carolina 11.1    5441      1.8        3875    80  \n",
       "North Dakota    1.4     637      0.8        5087   186  \n",
       "Ohio            7.4   10735      0.8        4561   124  \n",
       "Oklahoma        6.4    2715      1.1        3983    82  \n",
       "Oregon          4.2    2284      0.6        4660    44  \n",
       "Pennsylvania    6.1   11860      1.0        4449   126  \n",
       "Rhode Island    2.4     931      1.3        4558   127  \n",
       "South Carolina 11.6    2816      2.3        3635    65  \n",
       "South Dakota    1.7     681      0.5        4167   172  \n",
       "Tennessee      11.0    4173      1.7        3821    70  \n",
       "Texas          12.2   12237      2.2        4188    35  \n",
       "Utah            4.5    1203      0.6        4022   137  \n",
       "Vermont         5.5     472      0.6        3907   168  \n",
       "Virginia        9.5    4981      1.4        4701    85  \n",
       "Washington      4.3    3559      0.6        4864    32  \n",
       "West Virginia   6.7    1799      1.4        3617   100  \n",
       "Wisconsin       3.0    4589      0.7        4468   149  \n",
       "Wyoming         6.9     376      0.6        4566   173  "
      ]
     },
     "metadata": {},
     "output_type": "display_data"
    }
   ],
   "source": [
    "states"
   ]
  },
  {
   "cell_type": "code",
   "execution_count": 60,
   "id": "8dbaa654",
   "metadata": {},
   "outputs": [],
   "source": [
    "fit <- lm(Murder ~ Population+ Illiteracy+ Income+ Frost, data = states)"
   ]
  },
  {
   "cell_type": "code",
   "execution_count": 61,
   "id": "ed7d0f8f",
   "metadata": {},
   "outputs": [
    {
     "data": {
      "text/plain": [
       "\n",
       "Call:\n",
       "lm(formula = Murder ~ Population + Illiteracy + Income + Frost, \n",
       "    data = states)\n",
       "\n",
       "Residuals:\n",
       "    Min      1Q  Median      3Q     Max \n",
       "-4.7960 -1.6495 -0.0811  1.4815  7.6210 \n",
       "\n",
       "Coefficients:\n",
       "             Estimate Std. Error t value Pr(>|t|)    \n",
       "(Intercept) 1.235e+00  3.866e+00   0.319   0.7510    \n",
       "Population  2.237e-04  9.052e-05   2.471   0.0173 *  \n",
       "Illiteracy  4.143e+00  8.744e-01   4.738 2.19e-05 ***\n",
       "Income      6.442e-05  6.837e-04   0.094   0.9253    \n",
       "Frost       5.813e-04  1.005e-02   0.058   0.9541    \n",
       "---\n",
       "Signif. codes:  0 ‘***’ 0.001 ‘**’ 0.01 ‘*’ 0.05 ‘.’ 0.1 ‘ ’ 1\n",
       "\n",
       "Residual standard error: 2.535 on 45 degrees of freedom\n",
       "Multiple R-squared:  0.567,\tAdjusted R-squared:  0.5285 \n",
       "F-statistic: 14.73 on 4 and 45 DF,  p-value: 9.133e-08\n"
      ]
     },
     "metadata": {},
     "output_type": "display_data"
    }
   ],
   "source": [
    "summary(fit)"
   ]
  },
  {
   "cell_type": "code",
   "execution_count": 62,
   "id": "b1bed391",
   "metadata": {},
   "outputs": [
    {
     "data": {
      "text/html": [
       "<style>\n",
       ".dl-inline {width: auto; margin:0; padding: 0}\n",
       ".dl-inline>dt, .dl-inline>dd {float: none; width: auto; display: inline-block}\n",
       ".dl-inline>dt::after {content: \":\\0020\"; padding-right: .5ex}\n",
       ".dl-inline>dt:not(:first-of-type) {padding-left: .5ex}\n",
       "</style><dl class=dl-inline><dt>(Intercept)</dt><dd>1.23456341116073</dd><dt>Population</dt><dd>0.000223675357302149</dd><dt>Illiteracy</dt><dd>4.14283659025461</dd><dt>Income</dt><dd>6.4424701522876e-05</dd><dt>Frost</dt><dd>0.000581305537729418</dd></dl>\n"
      ],
      "text/latex": [
       "\\begin{description*}\n",
       "\\item[(Intercept)] 1.23456341116073\n",
       "\\item[Population] 0.000223675357302149\n",
       "\\item[Illiteracy] 4.14283659025461\n",
       "\\item[Income] 6.4424701522876e-05\n",
       "\\item[Frost] 0.000581305537729418\n",
       "\\end{description*}\n"
      ],
      "text/markdown": [
       "(Intercept)\n",
       ":   1.23456341116073Population\n",
       ":   0.000223675357302149Illiteracy\n",
       ":   4.14283659025461Income\n",
       ":   6.4424701522876e-05Frost\n",
       ":   0.000581305537729418\n",
       "\n"
      ],
      "text/plain": [
       " (Intercept)   Population   Illiteracy       Income        Frost \n",
       "1.2345634112 0.0002236754 4.1428365903 0.0000644247 0.0005813055 "
      ]
     },
     "metadata": {},
     "output_type": "display_data"
    }
   ],
   "source": [
    "coef(fit)"
   ]
  },
  {
   "cell_type": "code",
   "execution_count": 67,
   "id": "a33f5530",
   "metadata": {},
   "outputs": [],
   "source": [
    "options(digits = 4)"
   ]
  },
  {
   "cell_type": "code",
   "execution_count": 68,
   "id": "5d1cf51a",
   "metadata": {},
   "outputs": [
    {
     "data": {
      "text/html": [
       "<style>\n",
       ".dl-inline {width: auto; margin:0; padding: 0}\n",
       ".dl-inline>dt, .dl-inline>dd {float: none; width: auto; display: inline-block}\n",
       ".dl-inline>dt::after {content: \":\\0020\"; padding-right: .5ex}\n",
       ".dl-inline>dt:not(:first-of-type) {padding-left: .5ex}\n",
       "</style><dl class=dl-inline><dt>(Intercept)</dt><dd>1.23456341116073</dd><dt>Population</dt><dd>0.000223675357302149</dd><dt>Illiteracy</dt><dd>4.14283659025461</dd><dt>Income</dt><dd>6.4424701522876e-05</dd><dt>Frost</dt><dd>0.000581305537729418</dd></dl>\n"
      ],
      "text/latex": [
       "\\begin{description*}\n",
       "\\item[(Intercept)] 1.23456341116073\n",
       "\\item[Population] 0.000223675357302149\n",
       "\\item[Illiteracy] 4.14283659025461\n",
       "\\item[Income] 6.4424701522876e-05\n",
       "\\item[Frost] 0.000581305537729418\n",
       "\\end{description*}\n"
      ],
      "text/markdown": [
       "(Intercept)\n",
       ":   1.23456341116073Population\n",
       ":   0.000223675357302149Illiteracy\n",
       ":   4.14283659025461Income\n",
       ":   6.4424701522876e-05Frost\n",
       ":   0.000581305537729418\n",
       "\n"
      ],
      "text/plain": [
       "(Intercept)  Population  Illiteracy      Income       Frost \n",
       "  1.235e+00   2.237e-04   4.143e+00   6.442e-05   5.813e-04 "
      ]
     },
     "metadata": {},
     "output_type": "display_data"
    }
   ],
   "source": [
    "coef(fit)"
   ]
  },
  {
   "cell_type": "code",
   "execution_count": 69,
   "id": "4eb41e78",
   "metadata": {},
   "outputs": [
    {
     "data": {
      "text/html": [
       "<table class=\"dataframe\">\n",
       "<caption>A data.frame: 32 × 11</caption>\n",
       "<thead>\n",
       "\t<tr><th></th><th scope=col>mpg</th><th scope=col>cyl</th><th scope=col>disp</th><th scope=col>hp</th><th scope=col>drat</th><th scope=col>wt</th><th scope=col>qsec</th><th scope=col>vs</th><th scope=col>am</th><th scope=col>gear</th><th scope=col>carb</th></tr>\n",
       "\t<tr><th></th><th scope=col>&lt;dbl&gt;</th><th scope=col>&lt;dbl&gt;</th><th scope=col>&lt;dbl&gt;</th><th scope=col>&lt;dbl&gt;</th><th scope=col>&lt;dbl&gt;</th><th scope=col>&lt;dbl&gt;</th><th scope=col>&lt;dbl&gt;</th><th scope=col>&lt;dbl&gt;</th><th scope=col>&lt;dbl&gt;</th><th scope=col>&lt;dbl&gt;</th><th scope=col>&lt;dbl&gt;</th></tr>\n",
       "</thead>\n",
       "<tbody>\n",
       "\t<tr><th scope=row>Mazda RX4</th><td>21.0</td><td>6</td><td>160.0</td><td>110</td><td>3.90</td><td>2.620</td><td>16.46</td><td>0</td><td>1</td><td>4</td><td>4</td></tr>\n",
       "\t<tr><th scope=row>Mazda RX4 Wag</th><td>21.0</td><td>6</td><td>160.0</td><td>110</td><td>3.90</td><td>2.875</td><td>17.02</td><td>0</td><td>1</td><td>4</td><td>4</td></tr>\n",
       "\t<tr><th scope=row>Datsun 710</th><td>22.8</td><td>4</td><td>108.0</td><td> 93</td><td>3.85</td><td>2.320</td><td>18.61</td><td>1</td><td>1</td><td>4</td><td>1</td></tr>\n",
       "\t<tr><th scope=row>Hornet 4 Drive</th><td>21.4</td><td>6</td><td>258.0</td><td>110</td><td>3.08</td><td>3.215</td><td>19.44</td><td>1</td><td>0</td><td>3</td><td>1</td></tr>\n",
       "\t<tr><th scope=row>Hornet Sportabout</th><td>18.7</td><td>8</td><td>360.0</td><td>175</td><td>3.15</td><td>3.440</td><td>17.02</td><td>0</td><td>0</td><td>3</td><td>2</td></tr>\n",
       "\t<tr><th scope=row>Valiant</th><td>18.1</td><td>6</td><td>225.0</td><td>105</td><td>2.76</td><td>3.460</td><td>20.22</td><td>1</td><td>0</td><td>3</td><td>1</td></tr>\n",
       "\t<tr><th scope=row>Duster 360</th><td>14.3</td><td>8</td><td>360.0</td><td>245</td><td>3.21</td><td>3.570</td><td>15.84</td><td>0</td><td>0</td><td>3</td><td>4</td></tr>\n",
       "\t<tr><th scope=row>Merc 240D</th><td>24.4</td><td>4</td><td>146.7</td><td> 62</td><td>3.69</td><td>3.190</td><td>20.00</td><td>1</td><td>0</td><td>4</td><td>2</td></tr>\n",
       "\t<tr><th scope=row>Merc 230</th><td>22.8</td><td>4</td><td>140.8</td><td> 95</td><td>3.92</td><td>3.150</td><td>22.90</td><td>1</td><td>0</td><td>4</td><td>2</td></tr>\n",
       "\t<tr><th scope=row>Merc 280</th><td>19.2</td><td>6</td><td>167.6</td><td>123</td><td>3.92</td><td>3.440</td><td>18.30</td><td>1</td><td>0</td><td>4</td><td>4</td></tr>\n",
       "\t<tr><th scope=row>Merc 280C</th><td>17.8</td><td>6</td><td>167.6</td><td>123</td><td>3.92</td><td>3.440</td><td>18.90</td><td>1</td><td>0</td><td>4</td><td>4</td></tr>\n",
       "\t<tr><th scope=row>Merc 450SE</th><td>16.4</td><td>8</td><td>275.8</td><td>180</td><td>3.07</td><td>4.070</td><td>17.40</td><td>0</td><td>0</td><td>3</td><td>3</td></tr>\n",
       "\t<tr><th scope=row>Merc 450SL</th><td>17.3</td><td>8</td><td>275.8</td><td>180</td><td>3.07</td><td>3.730</td><td>17.60</td><td>0</td><td>0</td><td>3</td><td>3</td></tr>\n",
       "\t<tr><th scope=row>Merc 450SLC</th><td>15.2</td><td>8</td><td>275.8</td><td>180</td><td>3.07</td><td>3.780</td><td>18.00</td><td>0</td><td>0</td><td>3</td><td>3</td></tr>\n",
       "\t<tr><th scope=row>Cadillac Fleetwood</th><td>10.4</td><td>8</td><td>472.0</td><td>205</td><td>2.93</td><td>5.250</td><td>17.98</td><td>0</td><td>0</td><td>3</td><td>4</td></tr>\n",
       "\t<tr><th scope=row>Lincoln Continental</th><td>10.4</td><td>8</td><td>460.0</td><td>215</td><td>3.00</td><td>5.424</td><td>17.82</td><td>0</td><td>0</td><td>3</td><td>4</td></tr>\n",
       "\t<tr><th scope=row>Chrysler Imperial</th><td>14.7</td><td>8</td><td>440.0</td><td>230</td><td>3.23</td><td>5.345</td><td>17.42</td><td>0</td><td>0</td><td>3</td><td>4</td></tr>\n",
       "\t<tr><th scope=row>Fiat 128</th><td>32.4</td><td>4</td><td> 78.7</td><td> 66</td><td>4.08</td><td>2.200</td><td>19.47</td><td>1</td><td>1</td><td>4</td><td>1</td></tr>\n",
       "\t<tr><th scope=row>Honda Civic</th><td>30.4</td><td>4</td><td> 75.7</td><td> 52</td><td>4.93</td><td>1.615</td><td>18.52</td><td>1</td><td>1</td><td>4</td><td>2</td></tr>\n",
       "\t<tr><th scope=row>Toyota Corolla</th><td>33.9</td><td>4</td><td> 71.1</td><td> 65</td><td>4.22</td><td>1.835</td><td>19.90</td><td>1</td><td>1</td><td>4</td><td>1</td></tr>\n",
       "\t<tr><th scope=row>Toyota Corona</th><td>21.5</td><td>4</td><td>120.1</td><td> 97</td><td>3.70</td><td>2.465</td><td>20.01</td><td>1</td><td>0</td><td>3</td><td>1</td></tr>\n",
       "\t<tr><th scope=row>Dodge Challenger</th><td>15.5</td><td>8</td><td>318.0</td><td>150</td><td>2.76</td><td>3.520</td><td>16.87</td><td>0</td><td>0</td><td>3</td><td>2</td></tr>\n",
       "\t<tr><th scope=row>AMC Javelin</th><td>15.2</td><td>8</td><td>304.0</td><td>150</td><td>3.15</td><td>3.435</td><td>17.30</td><td>0</td><td>0</td><td>3</td><td>2</td></tr>\n",
       "\t<tr><th scope=row>Camaro Z28</th><td>13.3</td><td>8</td><td>350.0</td><td>245</td><td>3.73</td><td>3.840</td><td>15.41</td><td>0</td><td>0</td><td>3</td><td>4</td></tr>\n",
       "\t<tr><th scope=row>Pontiac Firebird</th><td>19.2</td><td>8</td><td>400.0</td><td>175</td><td>3.08</td><td>3.845</td><td>17.05</td><td>0</td><td>0</td><td>3</td><td>2</td></tr>\n",
       "\t<tr><th scope=row>Fiat X1-9</th><td>27.3</td><td>4</td><td> 79.0</td><td> 66</td><td>4.08</td><td>1.935</td><td>18.90</td><td>1</td><td>1</td><td>4</td><td>1</td></tr>\n",
       "\t<tr><th scope=row>Porsche 914-2</th><td>26.0</td><td>4</td><td>120.3</td><td> 91</td><td>4.43</td><td>2.140</td><td>16.70</td><td>0</td><td>1</td><td>5</td><td>2</td></tr>\n",
       "\t<tr><th scope=row>Lotus Europa</th><td>30.4</td><td>4</td><td> 95.1</td><td>113</td><td>3.77</td><td>1.513</td><td>16.90</td><td>1</td><td>1</td><td>5</td><td>2</td></tr>\n",
       "\t<tr><th scope=row>Ford Pantera L</th><td>15.8</td><td>8</td><td>351.0</td><td>264</td><td>4.22</td><td>3.170</td><td>14.50</td><td>0</td><td>1</td><td>5</td><td>4</td></tr>\n",
       "\t<tr><th scope=row>Ferrari Dino</th><td>19.7</td><td>6</td><td>145.0</td><td>175</td><td>3.62</td><td>2.770</td><td>15.50</td><td>0</td><td>1</td><td>5</td><td>6</td></tr>\n",
       "\t<tr><th scope=row>Maserati Bora</th><td>15.0</td><td>8</td><td>301.0</td><td>335</td><td>3.54</td><td>3.570</td><td>14.60</td><td>0</td><td>1</td><td>5</td><td>8</td></tr>\n",
       "\t<tr><th scope=row>Volvo 142E</th><td>21.4</td><td>4</td><td>121.0</td><td>109</td><td>4.11</td><td>2.780</td><td>18.60</td><td>1</td><td>1</td><td>4</td><td>2</td></tr>\n",
       "</tbody>\n",
       "</table>\n"
      ],
      "text/latex": [
       "A data.frame: 32 × 11\n",
       "\\begin{tabular}{r|lllllllllll}\n",
       "  & mpg & cyl & disp & hp & drat & wt & qsec & vs & am & gear & carb\\\\\n",
       "  & <dbl> & <dbl> & <dbl> & <dbl> & <dbl> & <dbl> & <dbl> & <dbl> & <dbl> & <dbl> & <dbl>\\\\\n",
       "\\hline\n",
       "\tMazda RX4 & 21.0 & 6 & 160.0 & 110 & 3.90 & 2.620 & 16.46 & 0 & 1 & 4 & 4\\\\\n",
       "\tMazda RX4 Wag & 21.0 & 6 & 160.0 & 110 & 3.90 & 2.875 & 17.02 & 0 & 1 & 4 & 4\\\\\n",
       "\tDatsun 710 & 22.8 & 4 & 108.0 &  93 & 3.85 & 2.320 & 18.61 & 1 & 1 & 4 & 1\\\\\n",
       "\tHornet 4 Drive & 21.4 & 6 & 258.0 & 110 & 3.08 & 3.215 & 19.44 & 1 & 0 & 3 & 1\\\\\n",
       "\tHornet Sportabout & 18.7 & 8 & 360.0 & 175 & 3.15 & 3.440 & 17.02 & 0 & 0 & 3 & 2\\\\\n",
       "\tValiant & 18.1 & 6 & 225.0 & 105 & 2.76 & 3.460 & 20.22 & 1 & 0 & 3 & 1\\\\\n",
       "\tDuster 360 & 14.3 & 8 & 360.0 & 245 & 3.21 & 3.570 & 15.84 & 0 & 0 & 3 & 4\\\\\n",
       "\tMerc 240D & 24.4 & 4 & 146.7 &  62 & 3.69 & 3.190 & 20.00 & 1 & 0 & 4 & 2\\\\\n",
       "\tMerc 230 & 22.8 & 4 & 140.8 &  95 & 3.92 & 3.150 & 22.90 & 1 & 0 & 4 & 2\\\\\n",
       "\tMerc 280 & 19.2 & 6 & 167.6 & 123 & 3.92 & 3.440 & 18.30 & 1 & 0 & 4 & 4\\\\\n",
       "\tMerc 280C & 17.8 & 6 & 167.6 & 123 & 3.92 & 3.440 & 18.90 & 1 & 0 & 4 & 4\\\\\n",
       "\tMerc 450SE & 16.4 & 8 & 275.8 & 180 & 3.07 & 4.070 & 17.40 & 0 & 0 & 3 & 3\\\\\n",
       "\tMerc 450SL & 17.3 & 8 & 275.8 & 180 & 3.07 & 3.730 & 17.60 & 0 & 0 & 3 & 3\\\\\n",
       "\tMerc 450SLC & 15.2 & 8 & 275.8 & 180 & 3.07 & 3.780 & 18.00 & 0 & 0 & 3 & 3\\\\\n",
       "\tCadillac Fleetwood & 10.4 & 8 & 472.0 & 205 & 2.93 & 5.250 & 17.98 & 0 & 0 & 3 & 4\\\\\n",
       "\tLincoln Continental & 10.4 & 8 & 460.0 & 215 & 3.00 & 5.424 & 17.82 & 0 & 0 & 3 & 4\\\\\n",
       "\tChrysler Imperial & 14.7 & 8 & 440.0 & 230 & 3.23 & 5.345 & 17.42 & 0 & 0 & 3 & 4\\\\\n",
       "\tFiat 128 & 32.4 & 4 &  78.7 &  66 & 4.08 & 2.200 & 19.47 & 1 & 1 & 4 & 1\\\\\n",
       "\tHonda Civic & 30.4 & 4 &  75.7 &  52 & 4.93 & 1.615 & 18.52 & 1 & 1 & 4 & 2\\\\\n",
       "\tToyota Corolla & 33.9 & 4 &  71.1 &  65 & 4.22 & 1.835 & 19.90 & 1 & 1 & 4 & 1\\\\\n",
       "\tToyota Corona & 21.5 & 4 & 120.1 &  97 & 3.70 & 2.465 & 20.01 & 1 & 0 & 3 & 1\\\\\n",
       "\tDodge Challenger & 15.5 & 8 & 318.0 & 150 & 2.76 & 3.520 & 16.87 & 0 & 0 & 3 & 2\\\\\n",
       "\tAMC Javelin & 15.2 & 8 & 304.0 & 150 & 3.15 & 3.435 & 17.30 & 0 & 0 & 3 & 2\\\\\n",
       "\tCamaro Z28 & 13.3 & 8 & 350.0 & 245 & 3.73 & 3.840 & 15.41 & 0 & 0 & 3 & 4\\\\\n",
       "\tPontiac Firebird & 19.2 & 8 & 400.0 & 175 & 3.08 & 3.845 & 17.05 & 0 & 0 & 3 & 2\\\\\n",
       "\tFiat X1-9 & 27.3 & 4 &  79.0 &  66 & 4.08 & 1.935 & 18.90 & 1 & 1 & 4 & 1\\\\\n",
       "\tPorsche 914-2 & 26.0 & 4 & 120.3 &  91 & 4.43 & 2.140 & 16.70 & 0 & 1 & 5 & 2\\\\\n",
       "\tLotus Europa & 30.4 & 4 &  95.1 & 113 & 3.77 & 1.513 & 16.90 & 1 & 1 & 5 & 2\\\\\n",
       "\tFord Pantera L & 15.8 & 8 & 351.0 & 264 & 4.22 & 3.170 & 14.50 & 0 & 1 & 5 & 4\\\\\n",
       "\tFerrari Dino & 19.7 & 6 & 145.0 & 175 & 3.62 & 2.770 & 15.50 & 0 & 1 & 5 & 6\\\\\n",
       "\tMaserati Bora & 15.0 & 8 & 301.0 & 335 & 3.54 & 3.570 & 14.60 & 0 & 1 & 5 & 8\\\\\n",
       "\tVolvo 142E & 21.4 & 4 & 121.0 & 109 & 4.11 & 2.780 & 18.60 & 1 & 1 & 4 & 2\\\\\n",
       "\\end{tabular}\n"
      ],
      "text/markdown": [
       "\n",
       "A data.frame: 32 × 11\n",
       "\n",
       "| <!--/--> | mpg &lt;dbl&gt; | cyl &lt;dbl&gt; | disp &lt;dbl&gt; | hp &lt;dbl&gt; | drat &lt;dbl&gt; | wt &lt;dbl&gt; | qsec &lt;dbl&gt; | vs &lt;dbl&gt; | am &lt;dbl&gt; | gear &lt;dbl&gt; | carb &lt;dbl&gt; |\n",
       "|---|---|---|---|---|---|---|---|---|---|---|---|\n",
       "| Mazda RX4 | 21.0 | 6 | 160.0 | 110 | 3.90 | 2.620 | 16.46 | 0 | 1 | 4 | 4 |\n",
       "| Mazda RX4 Wag | 21.0 | 6 | 160.0 | 110 | 3.90 | 2.875 | 17.02 | 0 | 1 | 4 | 4 |\n",
       "| Datsun 710 | 22.8 | 4 | 108.0 |  93 | 3.85 | 2.320 | 18.61 | 1 | 1 | 4 | 1 |\n",
       "| Hornet 4 Drive | 21.4 | 6 | 258.0 | 110 | 3.08 | 3.215 | 19.44 | 1 | 0 | 3 | 1 |\n",
       "| Hornet Sportabout | 18.7 | 8 | 360.0 | 175 | 3.15 | 3.440 | 17.02 | 0 | 0 | 3 | 2 |\n",
       "| Valiant | 18.1 | 6 | 225.0 | 105 | 2.76 | 3.460 | 20.22 | 1 | 0 | 3 | 1 |\n",
       "| Duster 360 | 14.3 | 8 | 360.0 | 245 | 3.21 | 3.570 | 15.84 | 0 | 0 | 3 | 4 |\n",
       "| Merc 240D | 24.4 | 4 | 146.7 |  62 | 3.69 | 3.190 | 20.00 | 1 | 0 | 4 | 2 |\n",
       "| Merc 230 | 22.8 | 4 | 140.8 |  95 | 3.92 | 3.150 | 22.90 | 1 | 0 | 4 | 2 |\n",
       "| Merc 280 | 19.2 | 6 | 167.6 | 123 | 3.92 | 3.440 | 18.30 | 1 | 0 | 4 | 4 |\n",
       "| Merc 280C | 17.8 | 6 | 167.6 | 123 | 3.92 | 3.440 | 18.90 | 1 | 0 | 4 | 4 |\n",
       "| Merc 450SE | 16.4 | 8 | 275.8 | 180 | 3.07 | 4.070 | 17.40 | 0 | 0 | 3 | 3 |\n",
       "| Merc 450SL | 17.3 | 8 | 275.8 | 180 | 3.07 | 3.730 | 17.60 | 0 | 0 | 3 | 3 |\n",
       "| Merc 450SLC | 15.2 | 8 | 275.8 | 180 | 3.07 | 3.780 | 18.00 | 0 | 0 | 3 | 3 |\n",
       "| Cadillac Fleetwood | 10.4 | 8 | 472.0 | 205 | 2.93 | 5.250 | 17.98 | 0 | 0 | 3 | 4 |\n",
       "| Lincoln Continental | 10.4 | 8 | 460.0 | 215 | 3.00 | 5.424 | 17.82 | 0 | 0 | 3 | 4 |\n",
       "| Chrysler Imperial | 14.7 | 8 | 440.0 | 230 | 3.23 | 5.345 | 17.42 | 0 | 0 | 3 | 4 |\n",
       "| Fiat 128 | 32.4 | 4 |  78.7 |  66 | 4.08 | 2.200 | 19.47 | 1 | 1 | 4 | 1 |\n",
       "| Honda Civic | 30.4 | 4 |  75.7 |  52 | 4.93 | 1.615 | 18.52 | 1 | 1 | 4 | 2 |\n",
       "| Toyota Corolla | 33.9 | 4 |  71.1 |  65 | 4.22 | 1.835 | 19.90 | 1 | 1 | 4 | 1 |\n",
       "| Toyota Corona | 21.5 | 4 | 120.1 |  97 | 3.70 | 2.465 | 20.01 | 1 | 0 | 3 | 1 |\n",
       "| Dodge Challenger | 15.5 | 8 | 318.0 | 150 | 2.76 | 3.520 | 16.87 | 0 | 0 | 3 | 2 |\n",
       "| AMC Javelin | 15.2 | 8 | 304.0 | 150 | 3.15 | 3.435 | 17.30 | 0 | 0 | 3 | 2 |\n",
       "| Camaro Z28 | 13.3 | 8 | 350.0 | 245 | 3.73 | 3.840 | 15.41 | 0 | 0 | 3 | 4 |\n",
       "| Pontiac Firebird | 19.2 | 8 | 400.0 | 175 | 3.08 | 3.845 | 17.05 | 0 | 0 | 3 | 2 |\n",
       "| Fiat X1-9 | 27.3 | 4 |  79.0 |  66 | 4.08 | 1.935 | 18.90 | 1 | 1 | 4 | 1 |\n",
       "| Porsche 914-2 | 26.0 | 4 | 120.3 |  91 | 4.43 | 2.140 | 16.70 | 0 | 1 | 5 | 2 |\n",
       "| Lotus Europa | 30.4 | 4 |  95.1 | 113 | 3.77 | 1.513 | 16.90 | 1 | 1 | 5 | 2 |\n",
       "| Ford Pantera L | 15.8 | 8 | 351.0 | 264 | 4.22 | 3.170 | 14.50 | 0 | 1 | 5 | 4 |\n",
       "| Ferrari Dino | 19.7 | 6 | 145.0 | 175 | 3.62 | 2.770 | 15.50 | 0 | 1 | 5 | 6 |\n",
       "| Maserati Bora | 15.0 | 8 | 301.0 | 335 | 3.54 | 3.570 | 14.60 | 0 | 1 | 5 | 8 |\n",
       "| Volvo 142E | 21.4 | 4 | 121.0 | 109 | 4.11 | 2.780 | 18.60 | 1 | 1 | 4 | 2 |\n",
       "\n"
      ],
      "text/plain": [
       "                    mpg  cyl disp  hp  drat wt    qsec  vs am gear carb\n",
       "Mazda RX4           21.0 6   160.0 110 3.90 2.620 16.46 0  1  4    4   \n",
       "Mazda RX4 Wag       21.0 6   160.0 110 3.90 2.875 17.02 0  1  4    4   \n",
       "Datsun 710          22.8 4   108.0  93 3.85 2.320 18.61 1  1  4    1   \n",
       "Hornet 4 Drive      21.4 6   258.0 110 3.08 3.215 19.44 1  0  3    1   \n",
       "Hornet Sportabout   18.7 8   360.0 175 3.15 3.440 17.02 0  0  3    2   \n",
       "Valiant             18.1 6   225.0 105 2.76 3.460 20.22 1  0  3    1   \n",
       "Duster 360          14.3 8   360.0 245 3.21 3.570 15.84 0  0  3    4   \n",
       "Merc 240D           24.4 4   146.7  62 3.69 3.190 20.00 1  0  4    2   \n",
       "Merc 230            22.8 4   140.8  95 3.92 3.150 22.90 1  0  4    2   \n",
       "Merc 280            19.2 6   167.6 123 3.92 3.440 18.30 1  0  4    4   \n",
       "Merc 280C           17.8 6   167.6 123 3.92 3.440 18.90 1  0  4    4   \n",
       "Merc 450SE          16.4 8   275.8 180 3.07 4.070 17.40 0  0  3    3   \n",
       "Merc 450SL          17.3 8   275.8 180 3.07 3.730 17.60 0  0  3    3   \n",
       "Merc 450SLC         15.2 8   275.8 180 3.07 3.780 18.00 0  0  3    3   \n",
       "Cadillac Fleetwood  10.4 8   472.0 205 2.93 5.250 17.98 0  0  3    4   \n",
       "Lincoln Continental 10.4 8   460.0 215 3.00 5.424 17.82 0  0  3    4   \n",
       "Chrysler Imperial   14.7 8   440.0 230 3.23 5.345 17.42 0  0  3    4   \n",
       "Fiat 128            32.4 4    78.7  66 4.08 2.200 19.47 1  1  4    1   \n",
       "Honda Civic         30.4 4    75.7  52 4.93 1.615 18.52 1  1  4    2   \n",
       "Toyota Corolla      33.9 4    71.1  65 4.22 1.835 19.90 1  1  4    1   \n",
       "Toyota Corona       21.5 4   120.1  97 3.70 2.465 20.01 1  0  3    1   \n",
       "Dodge Challenger    15.5 8   318.0 150 2.76 3.520 16.87 0  0  3    2   \n",
       "AMC Javelin         15.2 8   304.0 150 3.15 3.435 17.30 0  0  3    2   \n",
       "Camaro Z28          13.3 8   350.0 245 3.73 3.840 15.41 0  0  3    4   \n",
       "Pontiac Firebird    19.2 8   400.0 175 3.08 3.845 17.05 0  0  3    2   \n",
       "Fiat X1-9           27.3 4    79.0  66 4.08 1.935 18.90 1  1  4    1   \n",
       "Porsche 914-2       26.0 4   120.3  91 4.43 2.140 16.70 0  1  5    2   \n",
       "Lotus Europa        30.4 4    95.1 113 3.77 1.513 16.90 1  1  5    2   \n",
       "Ford Pantera L      15.8 8   351.0 264 4.22 3.170 14.50 0  1  5    4   \n",
       "Ferrari Dino        19.7 6   145.0 175 3.62 2.770 15.50 0  1  5    6   \n",
       "Maserati Bora       15.0 8   301.0 335 3.54 3.570 14.60 0  1  5    8   \n",
       "Volvo 142E          21.4 4   121.0 109 4.11 2.780 18.60 1  1  4    2   "
      ]
     },
     "metadata": {},
     "output_type": "display_data"
    }
   ],
   "source": [
    "mtcars"
   ]
  },
  {
   "cell_type": "code",
   "execution_count": 70,
   "id": "9e17d10e",
   "metadata": {},
   "outputs": [],
   "source": [
    "fit <- lm(mpg~ hp+wt+hp:wt, data = mtcars)"
   ]
  },
  {
   "cell_type": "code",
   "execution_count": 71,
   "id": "a436a004",
   "metadata": {},
   "outputs": [
    {
     "data": {
      "text/plain": [
       "\n",
       "Call:\n",
       "lm(formula = mpg ~ hp + wt + hp:wt, data = mtcars)\n",
       "\n",
       "Residuals:\n",
       "   Min     1Q Median     3Q    Max \n",
       "-3.063 -1.649 -0.736  1.421  4.551 \n",
       "\n",
       "Coefficients:\n",
       "            Estimate Std. Error t value Pr(>|t|)    \n",
       "(Intercept) 49.80842    3.60516   13.82  5.0e-14 ***\n",
       "hp          -0.12010    0.02470   -4.86  4.0e-05 ***\n",
       "wt          -8.21662    1.26971   -6.47  5.2e-07 ***\n",
       "hp:wt        0.02785    0.00742    3.75  0.00081 ***\n",
       "---\n",
       "Signif. codes:  0 ‘***’ 0.001 ‘**’ 0.01 ‘*’ 0.05 ‘.’ 0.1 ‘ ’ 1\n",
       "\n",
       "Residual standard error: 2.15 on 28 degrees of freedom\n",
       "Multiple R-squared:  0.885,\tAdjusted R-squared:  0.872 \n",
       "F-statistic: 71.7 on 3 and 28 DF,  p-value: 2.98e-13\n"
      ]
     },
     "metadata": {},
     "output_type": "display_data"
    }
   ],
   "source": [
    "summary(fit)"
   ]
  },
  {
   "cell_type": "code",
   "execution_count": 72,
   "id": "a1f9e03b",
   "metadata": {},
   "outputs": [],
   "source": [
    "?AIC"
   ]
  },
  {
   "cell_type": "code",
   "execution_count": 74,
   "id": "7f85dbd5",
   "metadata": {},
   "outputs": [],
   "source": [
    "fit1 <- lm(Murder ~ Population+ Illiteracy+ Income+ Frost, data = states)\n",
    "fit2 <- lm(Murder ~ Population+ Illiteracy, data = states)"
   ]
  },
  {
   "cell_type": "code",
   "execution_count": 75,
   "id": "4a8b3c4e",
   "metadata": {},
   "outputs": [
    {
     "data": {
      "text/html": [
       "<table class=\"dataframe\">\n",
       "<caption>A data.frame: 2 × 2</caption>\n",
       "<thead>\n",
       "\t<tr><th></th><th scope=col>df</th><th scope=col>AIC</th></tr>\n",
       "\t<tr><th></th><th scope=col>&lt;dbl&gt;</th><th scope=col>&lt;dbl&gt;</th></tr>\n",
       "</thead>\n",
       "<tbody>\n",
       "\t<tr><th scope=row>fit1</th><td>6</td><td>241.6</td></tr>\n",
       "\t<tr><th scope=row>fit2</th><td>4</td><td>237.7</td></tr>\n",
       "</tbody>\n",
       "</table>\n"
      ],
      "text/latex": [
       "A data.frame: 2 × 2\n",
       "\\begin{tabular}{r|ll}\n",
       "  & df & AIC\\\\\n",
       "  & <dbl> & <dbl>\\\\\n",
       "\\hline\n",
       "\tfit1 & 6 & 241.6\\\\\n",
       "\tfit2 & 4 & 237.7\\\\\n",
       "\\end{tabular}\n"
      ],
      "text/markdown": [
       "\n",
       "A data.frame: 2 × 2\n",
       "\n",
       "| <!--/--> | df &lt;dbl&gt; | AIC &lt;dbl&gt; |\n",
       "|---|---|---|\n",
       "| fit1 | 6 | 241.6 |\n",
       "| fit2 | 4 | 237.7 |\n",
       "\n"
      ],
      "text/plain": [
       "     df AIC  \n",
       "fit1 6  241.6\n",
       "fit2 4  237.7"
      ]
     },
     "metadata": {},
     "output_type": "display_data"
    }
   ],
   "source": [
    "AIC(fit1, fit2)"
   ]
  },
  {
   "cell_type": "code",
   "execution_count": 76,
   "id": "a2bd2e73",
   "metadata": {},
   "outputs": [],
   "source": [
    "library(MASS)"
   ]
  },
  {
   "cell_type": "code",
   "execution_count": null,
   "id": "cfa8a2ab",
   "metadata": {},
   "outputs": [],
   "source": []
  }
 ],
 "metadata": {
  "kernelspec": {
   "display_name": "R",
   "language": "R",
   "name": "ir"
  },
  "language_info": {
   "codemirror_mode": "r",
   "file_extension": ".r",
   "mimetype": "text/x-r-source",
   "name": "R",
   "pygments_lexer": "r",
   "version": "4.3.2"
  }
 },
 "nbformat": 4,
 "nbformat_minor": 5
}
